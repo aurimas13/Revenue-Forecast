{
 "cells": [
  {
   "cell_type": "code",
   "execution_count": 8,
   "id": "1d934fe9",
   "metadata": {},
   "outputs": [
    {
     "name": "stdout",
     "output_type": "stream",
     "text": [
      "pandas: 1.3.5\n",
      "numpy: 1.23.5\n",
      "seaborn: 0.11.2\n",
      "scikit-learn: 0.23.2\n",
      "statsmodels: 0.13.2\n",
      "matplotlib: 3.5.1\n",
      "werkzeug: 2.2.2\n",
      "prophet: 1.1.2\n",
      "pmdarima: 2.0.3\n",
      "flask: 2.2.2\n",
      "openpyxl: 3.0.10\n"
     ]
    }
   ],
   "source": [
    "import pandas\n",
    "import numpy\n",
    "import seaborn\n",
    "import sklearn\n",
    "import statsmodels\n",
    "import matplotlib\n",
    "import werkzeug\n",
    "import prophet\n",
    "import pmdarima\n",
    "import flask\n",
    "import openpyxl\n",
    "\n",
    "packages = {\n",
    "    'pandas': pandas,\n",
    "    'numpy': numpy,\n",
    "    'seaborn': seaborn,\n",
    "    'scikit-learn': sklearn,\n",
    "    'statsmodels': statsmodels,\n",
    "    'matplotlib': matplotlib,\n",
    "    'werkzeug': werkzeug,\n",
    "    'prophet': prophet,\n",
    "    'pmdarima': pmdarima,\n",
    "    'flask': flask,\n",
    "    'openpyxl': openpyxl\n",
    "}\n",
    "\n",
    "for package_name, package in packages.items():\n",
    "    print(f'{package_name}: {package.__version__}')\n"
   ]
  },
  {
   "cell_type": "code",
   "execution_count": null,
   "id": "8cac31b5",
   "metadata": {},
   "outputs": [],
   "source": []
  }
 ],
 "metadata": {
  "kernelspec": {
   "display_name": "Python 3 (ipykernel)",
   "language": "python",
   "name": "python3"
  },
  "language_info": {
   "codemirror_mode": {
    "name": "ipython",
    "version": 3
   },
   "file_extension": ".py",
   "mimetype": "text/x-python",
   "name": "python",
   "nbconvert_exporter": "python",
   "pygments_lexer": "ipython3",
   "version": "3.9.15"
  }
 },
 "nbformat": 4,
 "nbformat_minor": 5
}
