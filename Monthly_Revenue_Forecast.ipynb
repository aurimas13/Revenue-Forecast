{
  "nbformat": 4,
  "nbformat_minor": 0,
  "metadata": {
    "colab": {
      "provenance": [],
      "machine_shape": "hm"
    },
    "kernelspec": {
      "name": "python3",
      "display_name": "Python 3"
    },
    "language_info": {
      "name": "python"
    },
    "accelerator": "GPU",
    "gpuClass": "standard"
  },
  "cells": [
    {
      "cell_type": "markdown",
      "source": [
        "<a href=\"https://colab.research.google.com/github/aurimas13/Revenue-Forecast/blob/main/Monthly_Revenue_Forecast.ipynb\" target=\"_parent\"><img src=\"https://colab.research.google.com/assets/colab-badge.svg\" alt=\"Open In Colab\"/></a>\n"
      ],
      "metadata": {
        "id": "h8IKeuxLQl6Y"
      }
    },
    {
      "cell_type": "markdown",
      "source": [
        "# <b> Installations"
      ],
      "metadata": {
        "id": "MBku_roIbAf6"
      }
    },
    {
      "cell_type": "code",
      "source": [
        "!python -m pip install prophet\n",
        "!pip install pmdarima"
      ],
      "metadata": {
        "colab": {
          "base_uri": "https://localhost:8080/"
        },
        "id": "2KxY4QtMbFTZ",
        "outputId": "79aec129-9059-4fc4-d793-5f9ee96a9888"
      },
      "execution_count": 79,
      "outputs": [
        {
          "output_type": "stream",
          "name": "stdout",
          "text": [
            "Looking in indexes: https://pypi.org/simple, https://us-python.pkg.dev/colab-wheels/public/simple/\n",
            "Requirement already satisfied: prophet in /usr/local/lib/python3.9/dist-packages (1.1.2)\n",
            "Requirement already satisfied: convertdate>=2.1.2 in /usr/local/lib/python3.9/dist-packages (from prophet) (2.4.0)\n",
            "Requirement already satisfied: numpy>=1.15.4 in /usr/local/lib/python3.9/dist-packages (from prophet) (1.22.4)\n",
            "Requirement already satisfied: pandas>=1.0.4 in /usr/local/lib/python3.9/dist-packages (from prophet) (1.4.4)\n",
            "Requirement already satisfied: holidays>=0.14.2 in /usr/local/lib/python3.9/dist-packages (from prophet) (0.21.13)\n",
            "Requirement already satisfied: python-dateutil>=2.8.0 in /usr/local/lib/python3.9/dist-packages (from prophet) (2.8.2)\n",
            "Requirement already satisfied: LunarCalendar>=0.0.9 in /usr/local/lib/python3.9/dist-packages (from prophet) (0.0.9)\n",
            "Requirement already satisfied: cmdstanpy>=1.0.4 in /usr/local/lib/python3.9/dist-packages (from prophet) (1.1.0)\n",
            "Requirement already satisfied: tqdm>=4.36.1 in /usr/local/lib/python3.9/dist-packages (from prophet) (4.65.0)\n",
            "Requirement already satisfied: matplotlib>=2.0.0 in /usr/local/lib/python3.9/dist-packages (from prophet) (3.7.1)\n",
            "Requirement already satisfied: pymeeus<=1,>=0.3.13 in /usr/local/lib/python3.9/dist-packages (from convertdate>=2.1.2->prophet) (0.5.12)\n",
            "Requirement already satisfied: hijri-converter in /usr/local/lib/python3.9/dist-packages (from holidays>=0.14.2->prophet) (2.2.4)\n",
            "Requirement already satisfied: korean-lunar-calendar in /usr/local/lib/python3.9/dist-packages (from holidays>=0.14.2->prophet) (0.3.1)\n",
            "Requirement already satisfied: pytz in /usr/local/lib/python3.9/dist-packages (from LunarCalendar>=0.0.9->prophet) (2022.7.1)\n",
            "Requirement already satisfied: ephem>=3.7.5.3 in /usr/local/lib/python3.9/dist-packages (from LunarCalendar>=0.0.9->prophet) (4.1.4)\n",
            "Requirement already satisfied: pyparsing>=2.3.1 in /usr/local/lib/python3.9/dist-packages (from matplotlib>=2.0.0->prophet) (3.0.9)\n",
            "Requirement already satisfied: fonttools>=4.22.0 in /usr/local/lib/python3.9/dist-packages (from matplotlib>=2.0.0->prophet) (4.39.0)\n",
            "Requirement already satisfied: kiwisolver>=1.0.1 in /usr/local/lib/python3.9/dist-packages (from matplotlib>=2.0.0->prophet) (1.4.4)\n",
            "Requirement already satisfied: cycler>=0.10 in /usr/local/lib/python3.9/dist-packages (from matplotlib>=2.0.0->prophet) (0.11.0)\n",
            "Requirement already satisfied: contourpy>=1.0.1 in /usr/local/lib/python3.9/dist-packages (from matplotlib>=2.0.0->prophet) (1.0.7)\n",
            "Requirement already satisfied: pillow>=6.2.0 in /usr/local/lib/python3.9/dist-packages (from matplotlib>=2.0.0->prophet) (8.4.0)\n",
            "Requirement already satisfied: importlib-resources>=3.2.0 in /usr/local/lib/python3.9/dist-packages (from matplotlib>=2.0.0->prophet) (5.12.0)\n",
            "Requirement already satisfied: packaging>=20.0 in /usr/local/lib/python3.9/dist-packages (from matplotlib>=2.0.0->prophet) (23.0)\n",
            "Requirement already satisfied: six>=1.5 in /usr/local/lib/python3.9/dist-packages (from python-dateutil>=2.8.0->prophet) (1.15.0)\n",
            "Requirement already satisfied: zipp>=3.1.0 in /usr/local/lib/python3.9/dist-packages (from importlib-resources>=3.2.0->matplotlib>=2.0.0->prophet) (3.15.0)\n",
            "Looking in indexes: https://pypi.org/simple, https://us-python.pkg.dev/colab-wheels/public/simple/\n",
            "Requirement already satisfied: pmdarima in /usr/local/lib/python3.9/dist-packages (2.0.3)\n",
            "Requirement already satisfied: urllib3 in /usr/local/lib/python3.9/dist-packages (from pmdarima) (1.26.15)\n",
            "Requirement already satisfied: scikit-learn>=0.22 in /usr/local/lib/python3.9/dist-packages (from pmdarima) (1.2.2)\n",
            "Requirement already satisfied: numpy>=1.21.2 in /usr/local/lib/python3.9/dist-packages (from pmdarima) (1.22.4)\n",
            "Requirement already satisfied: scipy>=1.3.2 in /usr/local/lib/python3.9/dist-packages (from pmdarima) (1.10.1)\n",
            "Requirement already satisfied: statsmodels>=0.13.2 in /usr/local/lib/python3.9/dist-packages (from pmdarima) (0.13.5)\n",
            "Requirement already satisfied: joblib>=0.11 in /usr/local/lib/python3.9/dist-packages (from pmdarima) (1.1.1)\n",
            "Requirement already satisfied: setuptools!=50.0.0,>=38.6.0 in /usr/local/lib/python3.9/dist-packages (from pmdarima) (63.4.3)\n",
            "Requirement already satisfied: pandas>=0.19 in /usr/local/lib/python3.9/dist-packages (from pmdarima) (1.4.4)\n",
            "Requirement already satisfied: Cython!=0.29.18,!=0.29.31,>=0.29 in /usr/local/lib/python3.9/dist-packages (from pmdarima) (0.29.33)\n",
            "Requirement already satisfied: python-dateutil>=2.8.1 in /usr/local/lib/python3.9/dist-packages (from pandas>=0.19->pmdarima) (2.8.2)\n",
            "Requirement already satisfied: pytz>=2020.1 in /usr/local/lib/python3.9/dist-packages (from pandas>=0.19->pmdarima) (2022.7.1)\n",
            "Requirement already satisfied: threadpoolctl>=2.0.0 in /usr/local/lib/python3.9/dist-packages (from scikit-learn>=0.22->pmdarima) (3.1.0)\n",
            "Requirement already satisfied: packaging>=21.3 in /usr/local/lib/python3.9/dist-packages (from statsmodels>=0.13.2->pmdarima) (23.0)\n",
            "Requirement already satisfied: patsy>=0.5.2 in /usr/local/lib/python3.9/dist-packages (from statsmodels>=0.13.2->pmdarima) (0.5.3)\n",
            "Requirement already satisfied: six in /usr/local/lib/python3.9/dist-packages (from patsy>=0.5.2->statsmodels>=0.13.2->pmdarima) (1.15.0)\n"
          ]
        }
      ]
    },
    {
      "cell_type": "markdown",
      "source": [
        "# <b> Imports"
      ],
      "metadata": {
        "id": "We4SBEHka5SL"
      }
    },
    {
      "cell_type": "code",
      "execution_count": 80,
      "metadata": {
        "id": "kzbFVkZRa1Fy"
      },
      "outputs": [],
      "source": [
        "import warnings\n",
        "warnings.filterwarnings(\"ignore\")\n",
        "import numpy as np\n",
        "import pandas as pd\n",
        "import matplotlib.pyplot as plt\n",
        "import torch\n",
        "import torch.nn as nn\n",
        "import random\n",
        "from torch.utils.data import DataLoader, TensorDataset\n",
        "from sklearn.preprocessing import StandardScaler\n",
        "from sklearn.metrics import mean_squared_error, mean_absolute_error, mean_absolute_percentage_error\n",
        "from statsmodels.tsa.arima.model import ARIMA\n",
        "from prophet import Prophet\n",
        "from pmdarima import auto_arima\n"
      ]
    },
    {
      "cell_type": "markdown",
      "source": [
        "# <b> Loading data"
      ],
      "metadata": {
        "id": "3IPfMeoacMwn"
      }
    },
    {
      "cell_type": "code",
      "source": [
        "url = \"https://github.com/aurimas13/Revenue-Forecast/blob/main/Dataset/Barbora%20Homework.xlsx?raw=true\"\n",
        "\n",
        "revenue_data = pd.read_excel(url, sheet_name='Revenue', parse_dates=['Date'], engine='openpyxl')\n",
        "weather_data = pd.read_excel(url, sheet_name='Weather', parse_dates=['dt'], engine='openpyxl')\n",
        "revenue_data['Date'] = pd.to_datetime(revenue_data['Date'])\n",
        "revenue_data.set_index('Date', inplace=True)\n",
        "monthly_revenue_data = revenue_data.resample('M').sum().reset_index()\n"
      ],
      "metadata": {
        "id": "08fxA5sxbdSF"
      },
      "execution_count": 81,
      "outputs": []
    },
    {
      "cell_type": "markdown",
      "source": [
        "# <b> Feature Engineering"
      ],
      "metadata": {
        "id": "t12usPlec0SL"
      }
    },
    {
      "cell_type": "code",
      "source": [
        "# Drop the 'time' column from the weather_data\n",
        "weather_data = weather_data.drop('time', axis=1)\n",
        "\n",
        "# Convert categorical features 'wind' and 'condition' to numerical values\n",
        "wind_categories = weather_data['wind'].astype('category').cat.categories\n",
        "condition_categories = weather_data['condition'].astype('category').cat.categories\n",
        "\n",
        "weather_data['wind'] = weather_data['wind'].astype('category').cat.codes\n",
        "weather_data['condition'] = weather_data['condition'].astype('category').cat.codes\n",
        "\n",
        "# Aggregate weather_data on 'dt' to monthly level\n",
        "monthly_weather_data = weather_data.resample('M', on='dt').agg({\n",
        "    'temperature': 'mean',\n",
        "    'dew_point': 'mean',\n",
        "    'humidity': 'mean',\n",
        "    'wind_speed': 'mean',\n",
        "    'pressure': 'mean',\n",
        "    'precipitation': 'sum',\n",
        "    'wind': 'median',\n",
        "    'condition': 'median'\n",
        "}).reset_index()\n"
      ],
      "metadata": {
        "id": "_C98sFkEc0tl"
      },
      "execution_count": 82,
      "outputs": []
    },
    {
      "cell_type": "markdown",
      "source": [
        "# <b> Merging & Cleaning Data"
      ],
      "metadata": {
        "id": "DU5_z-pwcYu_"
      }
    },
    {
      "cell_type": "code",
      "source": [
        "# Merge revenue_data and monthly_weather_data on the Date and dt columns\n",
        "merged_data = pd.merge(monthly_revenue_data, monthly_weather_data, left_on='Date', right_on='dt', how='inner')"
      ],
      "metadata": {
        "id": "-mU5mTXsCV1Q"
      },
      "execution_count": 83,
      "outputs": []
    },
    {
      "cell_type": "code",
      "source": [
        "# Drop the 'dt' column since it's a duplicate of 'Date'\n",
        "merged_data.drop(columns=['dt'], inplace=True)"
      ],
      "metadata": {
        "id": "ObgtuxC3CZX1"
      },
      "execution_count": 84,
      "outputs": []
    },
    {
      "cell_type": "code",
      "source": [
        "# Add the lagged revenue column to the merged_data\n",
        "merged_data['lagged_revenue'] = merged_data['Revenue'].shift(1).fillna(0)"
      ],
      "metadata": {
        "id": "T-vydFd1K_ME"
      },
      "execution_count": 85,
      "outputs": []
    },
    {
      "cell_type": "code",
      "source": [
        "# Replace zeros with NaNs\n",
        "merged_data = merged_data.replace(0, np.nan)"
      ],
      "metadata": {
        "id": "9gFJVsShCcpx"
      },
      "execution_count": 86,
      "outputs": []
    },
    {
      "cell_type": "code",
      "source": [
        "# Drop column 'precipitation' with NaNs values\n",
        "merged_data = merged_data.drop('precipitation', axis=1)\n",
        "# Drop rows with NaN values\n",
        "merged_data = merged_data.dropna()\n",
        "# Filter rows that have Revenue less than or equal to 10^9\n",
        "merged_data = merged_data[merged_data['Revenue'] <= 10**9]"
      ],
      "metadata": {
        "id": "1dqGbPD8DNhV"
      },
      "execution_count": 87,
      "outputs": []
    },
    {
      "cell_type": "markdown",
      "source": [
        "# <b> Splitting Data"
      ],
      "metadata": {
        "id": "VN7DFcADD7Un"
      }
    },
    {
      "cell_type": "code",
      "source": [
        "# Split the data into train and test sets\n",
        "train_data = merged_data[merged_data['Date'] < '2022-01-01']\n",
        "test_data = merged_data[merged_data['Date'] >= '2022-01-01']\n",
        "\n",
        "# Separate the features (X) and the target (y)\n",
        "X_train = train_data.drop(columns=['Date', 'Revenue'])\n",
        "y_train = train_data['Revenue']\n",
        "X_test = test_data.drop(columns=['Date', 'Revenue'])\n",
        "y_test = test_data['Revenue']"
      ],
      "metadata": {
        "id": "qe3VDts1cY7_"
      },
      "execution_count": 88,
      "outputs": []
    },
    {
      "cell_type": "markdown",
      "source": [
        "# <b> Scaling Data"
      ],
      "metadata": {
        "id": "rIIO4CE8ZSDA"
      }
    },
    {
      "cell_type": "code",
      "source": [
        "# Scale the features\n",
        "scaler = StandardScaler()\n",
        "X_train_scaled = scaler.fit_transform(X_train)\n",
        "X_test_scaled = scaler.transform(X_test)\n",
        "\n",
        "# Convert the scaled features back to DataFrames\n",
        "X_train_scaled = pd.DataFrame(X_train_scaled, columns=X_train.columns)\n",
        "X_test_scaled = pd.DataFrame(X_test_scaled, columns=X_test.columns)\n",
        "\n",
        "# Initialize a StandardScaler instance for the target variable y\n",
        "y_scaler = StandardScaler()\n",
        "y_train_scaled = y_scaler.fit_transform(y_train.to_numpy(dtype='float32').reshape(-1, 1))"
      ],
      "metadata": {
        "id": "EDuj8R1iZYqZ"
      },
      "execution_count": 89,
      "outputs": []
    },
    {
      "cell_type": "markdown",
      "source": [
        "# <b> Device Check"
      ],
      "metadata": {
        "id": "A28Ejputeluv"
      }
    },
    {
      "cell_type": "code",
      "source": [
        "# Checking deivice to run on\n",
        "device = torch.device(\"cuda\" if torch.cuda.is_available() else \"cpu\")\n",
        "device"
      ],
      "metadata": {
        "colab": {
          "base_uri": "https://localhost:8080/"
        },
        "id": "pzL9AIXhemHe",
        "outputId": "ad495b3c-66fe-47a4-f0dd-cac69e1a3090"
      },
      "execution_count": 90,
      "outputs": [
        {
          "output_type": "execute_result",
          "data": {
            "text/plain": [
              "device(type='cpu')"
            ]
          },
          "metadata": {},
          "execution_count": 90
        }
      ]
    },
    {
      "cell_type": "markdown",
      "source": [
        "# <b> MAPE & RMSE Metrics"
      ],
      "metadata": {
        "id": "X-SpGcEFv-YP"
      }
    },
    {
      "cell_type": "code",
      "source": [
        "# Definining the MAPE metric as a MAPE function\n",
        "def mean_absolute_percentage_error(y_true, y_pred):\n",
        "    y_true, y_pred = np.array(y_true), np.array(y_pred)\n",
        "    return np.mean(np.abs((y_true - y_pred) / (y_true + 1e-8))) * 100\n"
      ],
      "metadata": {
        "id": "cDVZdcT9kO2c"
      },
      "execution_count": 91,
      "outputs": []
    },
    {
      "cell_type": "code",
      "source": [
        "# Define RMSE metric as RMSE function\n",
        "def calculate_rmse(y_true, y_pred):\n",
        "    return np.sqrt(mean_squared_error(y_true, y_pred))"
      ],
      "metadata": {
        "id": "TkPXqjtevsRz"
      },
      "execution_count": 92,
      "outputs": []
    },
    {
      "cell_type": "markdown",
      "source": [
        "# <b> 1<sup>st</sup> model - LSTM"
      ],
      "metadata": {
        "id": "eSEnVwimdtQY"
      }
    },
    {
      "cell_type": "markdown",
      "source": [
        "## Neural Net Architecture"
      ],
      "metadata": {
        "id": "hqh3SXMDebzj"
      }
    },
    {
      "cell_type": "code",
      "source": [
        "class LSTM(nn.Module):\n",
        "    def __init__(self, input_size, hidden_size, num_layers, output_size):\n",
        "        super(LSTM, self).__init__()\n",
        "        self.hidden_size = hidden_size\n",
        "        self.num_layers = num_layers\n",
        "        self.lstm = nn.LSTM(input_size, hidden_size, num_layers, batch_first=True)\n",
        "        self.fc = nn.Linear(hidden_size, output_size)\n",
        "\n",
        "    def forward(self, x):\n",
        "        # Initialize hidden and cell states\n",
        "        h0 = torch.zeros(self.num_layers, x.size(0), self.hidden_size).to(device)\n",
        "        c0 = torch.zeros(self.num_layers, x.size(0), self.hidden_size).to(device)\n",
        "\n",
        "        # Adding sequence_length dimension\n",
        "        x = x.unsqueeze(1)\n",
        "\n",
        "        # Forward propagate LSTM\n",
        "        out, _ = self.lstm(x, (h0, c0))\n",
        "\n",
        "        # Decode the hidden state of the last time step\n",
        "        out = self.fc(out[:, -1, :])\n",
        "        return out"
      ],
      "metadata": {
        "id": "WhDlXIVndtjS"
      },
      "execution_count": 93,
      "outputs": []
    },
    {
      "cell_type": "markdown",
      "source": [
        "## Hyperparameters\n",
        "\n"
      ],
      "metadata": {
        "id": "ob_A6ya9fBNN"
      }
    },
    {
      "cell_type": "code",
      "source": [
        "# Define Hyperparameters\n",
        "input_size = X_train_scaled.shape[1]\n",
        "hidden_size = 64\n",
        "num_layers = 2\n",
        "output_size = 1\n",
        "num_epochs = 100\n",
        "learning_rate = 0.001\n",
        "batch_size = 32"
      ],
      "metadata": {
        "id": "yHrw9-3efBVQ"
      },
      "execution_count": 94,
      "outputs": []
    },
    {
      "cell_type": "markdown",
      "source": [
        "## Conversion"
      ],
      "metadata": {
        "id": "5jWhltBefLZ7"
      }
    },
    {
      "cell_type": "code",
      "source": [
        "# Convert DataFrames to NumPy arrays and then to PyTorch tensors\n",
        "X_train_numpy = X_train_scaled.to_numpy(dtype='float32')\n",
        "y_train_numpy = y_train.to_numpy(dtype='float32').reshape(-1, 1)\n",
        "X_train_tensor = torch.tensor(X_train_numpy)\n",
        "y_train_tensor = torch.tensor(y_train_scaled)\n",
        "\n",
        "train_dataset = TensorDataset(X_train_tensor, y_train_tensor)\n",
        "train_loader = DataLoader(train_dataset, batch_size=batch_size, shuffle=True)\n"
      ],
      "metadata": {
        "id": "n9x4ONyyfLit"
      },
      "execution_count": 95,
      "outputs": []
    },
    {
      "cell_type": "markdown",
      "source": [
        "## Initialize Net & Define Loss with Optimizer"
      ],
      "metadata": {
        "id": "qrlR16oRflFo"
      }
    },
    {
      "cell_type": "code",
      "source": [
        "# Initialize Net\n",
        "model = LSTM(input_size, hidden_size, num_layers, output_size).to(device)\n",
        "\n",
        "# Define Loss with Optimizer\n",
        "criterion = nn.MSELoss()\n",
        "optimizer = torch.optim.Adam(model.parameters(), lr=learning_rate)"
      ],
      "metadata": {
        "id": "8v7CnPk_flQw"
      },
      "execution_count": 96,
      "outputs": []
    },
    {
      "cell_type": "markdown",
      "source": [
        "## Training and Testing"
      ],
      "metadata": {
        "id": "jov10Ma7f_Cp"
      }
    },
    {
      "cell_type": "code",
      "source": [
        "# Train and Test\n",
        "for epoch in range(num_epochs):\n",
        "    for i, (inputs, targets) in enumerate(train_loader):\n",
        "        inputs = inputs.to(device).float()\n",
        "        targets = targets.to(device).float()\n",
        "\n",
        "        optimizer.zero_grad()\n",
        "        outputs = model(inputs)\n",
        "        outputs = outputs.view(-1, 1)  # Reshape the output tensor\n",
        "        loss = criterion(outputs, targets)\n",
        "        loss.backward()\n",
        "        optimizer.step()\n",
        "\n",
        "    if (epoch+1) % 10 == 0:\n",
        "        print(f'Epoch [{epoch+1}/{num_epochs}], Loss: {loss.item():.4f}')"
      ],
      "metadata": {
        "colab": {
          "base_uri": "https://localhost:8080/"
        },
        "id": "eyJy7XkWfzgb",
        "outputId": "7638dfc5-7927-4f36-aaf6-e96d190b7d48"
      },
      "execution_count": 97,
      "outputs": [
        {
          "output_type": "stream",
          "name": "stdout",
          "text": [
            "Epoch [10/100], Loss: 1.4607\n",
            "Epoch [20/100], Loss: 0.8926\n",
            "Epoch [30/100], Loss: 0.8002\n",
            "Epoch [40/100], Loss: 1.1278\n",
            "Epoch [50/100], Loss: 0.8014\n",
            "Epoch [60/100], Loss: 0.5960\n",
            "Epoch [70/100], Loss: 0.6521\n",
            "Epoch [80/100], Loss: 0.6000\n",
            "Epoch [90/100], Loss: 0.6210\n",
            "Epoch [100/100], Loss: 0.5560\n"
          ]
        }
      ]
    },
    {
      "cell_type": "markdown",
      "source": [
        "## Evaluation"
      ],
      "metadata": {
        "id": "DU7JhhNogPAU"
      }
    },
    {
      "cell_type": "code",
      "source": [
        "#LSTM model evalaution\n",
        "model.eval()\n",
        "X_test_np = X_test_scaled.to_numpy(dtype=np.float32)\n",
        "y_test_np = y_test.to_numpy(dtype=np.float32)\n",
        "\n",
        "X_test_tensor = torch.tensor(X_test_np).to(device)\n",
        "y_test_tensor = torch.tensor(y_test_np).to(device)\n",
        "\n",
        "with torch.no_grad():\n",
        "    y_pred = model(X_test_tensor)\n",
        "\n",
        "y_pred = y_pred.cpu().detach().numpy()\n",
        "y_pred_unscaled = y_scaler.inverse_transform(y_pred)"
      ],
      "metadata": {
        "id": "1fWZMENxgPKm"
      },
      "execution_count": 98,
      "outputs": []
    },
    {
      "cell_type": "markdown",
      "source": [
        "## Metrics (MSE, MAE, MAPE)"
      ],
      "metadata": {
        "id": "5k7MsyyqD9fT"
      }
    },
    {
      "cell_type": "code",
      "source": [
        "mse = mean_squared_error(y_test, y_pred_unscaled)\n",
        "mae = mean_absolute_error(y_test, y_pred_unscaled)\n",
        "mape = mean_absolute_percentage_error(y_test, y_pred_unscaled)\n",
        "\n",
        "print(f'Mean Squared Error: {mse:.2f}')\n",
        "print(f'Mean Absolute Error: {mae:.2f}')\n",
        "print(\"Mean Absolute Percentage Error:\", mape)"
      ],
      "metadata": {
        "colab": {
          "base_uri": "https://localhost:8080/"
        },
        "id": "FmdsEGkVEAMv",
        "outputId": "fad55894-7f88-4500-9095-339f150fd3bc"
      },
      "execution_count": 99,
      "outputs": [
        {
          "output_type": "stream",
          "name": "stdout",
          "text": [
            "Mean Squared Error: 7745243852957134.00\n",
            "Mean Absolute Error: 76162837.76\n",
            "Mean Absolute Percentage Error: 36.52960820239333\n"
          ]
        }
      ]
    },
    {
      "cell_type": "markdown",
      "source": [
        "# <b> 2<sup>nd</sup> model - Prophet"
      ],
      "metadata": {
        "id": "VMVckfB4g5YA"
      }
    },
    {
      "cell_type": "markdown",
      "source": [
        "# Prepare Data for Prophet"
      ],
      "metadata": {
        "id": "spRL1r6-rw8n"
      }
    },
    {
      "cell_type": "code",
      "source": [
        "# Prepare the data for the Prophet model\n",
        "prophet_train_data = train_data[['Date', 'Revenue']].rename(columns={'Date': 'ds', 'Revenue': 'y'})"
      ],
      "metadata": {
        "id": "N5c3yzbMr6IY"
      },
      "execution_count": 100,
      "outputs": []
    },
    {
      "cell_type": "markdown",
      "source": [
        "## Initialize the model"
      ],
      "metadata": {
        "id": "zoCf0K3LjhqM"
      }
    },
    {
      "cell_type": "code",
      "source": [
        "# Create and fit the Prophet model\n",
        "prophet_model = Prophet()\n",
        "prophet_model.fit(prophet_train_data)"
      ],
      "metadata": {
        "colab": {
          "base_uri": "https://localhost:8080/"
        },
        "id": "MmLht-lPgr5S",
        "outputId": "5449675c-829d-488d-cc25-bd8fefc1d500"
      },
      "execution_count": 101,
      "outputs": [
        {
          "output_type": "stream",
          "name": "stderr",
          "text": [
            "INFO:prophet:Disabling weekly seasonality. Run prophet with weekly_seasonality=True to override this.\n",
            "INFO:prophet:Disabling daily seasonality. Run prophet with daily_seasonality=True to override this.\n",
            "DEBUG:cmdstanpy:input tempfile: /tmp/tmp75jjgyw5/2zs0poly.json\n",
            "DEBUG:cmdstanpy:input tempfile: /tmp/tmp75jjgyw5/qyeor_1n.json\n",
            "DEBUG:cmdstanpy:idx 0\n",
            "DEBUG:cmdstanpy:running CmdStan, num_threads: None\n",
            "DEBUG:cmdstanpy:CmdStan args: ['/usr/local/lib/python3.9/dist-packages/prophet/stan_model/prophet_model.bin', 'random', 'seed=89613', 'data', 'file=/tmp/tmp75jjgyw5/2zs0poly.json', 'init=/tmp/tmp75jjgyw5/qyeor_1n.json', 'output', 'file=/tmp/tmp75jjgyw5/prophet_modelr8c9e4jg/prophet_model-20230320064035.csv', 'method=optimize', 'algorithm=newton', 'iter=10000']\n",
            "06:40:35 - cmdstanpy - INFO - Chain [1] start processing\n",
            "INFO:cmdstanpy:Chain [1] start processing\n",
            "06:40:35 - cmdstanpy - INFO - Chain [1] done processing\n",
            "INFO:cmdstanpy:Chain [1] done processing\n"
          ]
        },
        {
          "output_type": "execute_result",
          "data": {
            "text/plain": [
              "<prophet.forecaster.Prophet at 0x7f056a17b040>"
            ]
          },
          "metadata": {},
          "execution_count": 101
        }
      ]
    },
    {
      "cell_type": "markdown",
      "source": [
        "## Predict the next month's revenue "
      ],
      "metadata": {
        "id": "j_Q1kIbnkZ1V"
      }
    },
    {
      "cell_type": "code",
      "source": [
        "# Create a future dataframe for the number of months in the test set\n",
        "num_months = len(test_data)\n",
        "future = prophet_model.make_future_dataframe(periods=num_months, freq='MS')\n",
        "prophet_forecast = prophet_model.predict(future)  # Make prediction"
      ],
      "metadata": {
        "id": "DKbHfBqAkZ9n"
      },
      "execution_count": 102,
      "outputs": []
    },
    {
      "cell_type": "markdown",
      "source": [
        "## Transformation"
      ],
      "metadata": {
        "id": "4-wrrGFn8iyh"
      }
    },
    {
      "cell_type": "code",
      "source": [
        "# Set the day to the first day of the month for the test data\n",
        "test_data['Date'] = test_data['Date'].apply(lambda x: x.replace(day=1))"
      ],
      "metadata": {
        "id": "m6pr63uI8HKX"
      },
      "execution_count": 103,
      "outputs": []
    },
    {
      "cell_type": "markdown",
      "source": [
        "## Evaluation"
      ],
      "metadata": {
        "id": "h1fyEB5FkKQ1"
      }
    },
    {
      "cell_type": "code",
      "source": [
        "# Evaluate the model\n",
        "test_forecast = prophet_forecast.tail(num_months)\n",
        "\n",
        "# Get the true values from the original test_data\n",
        "y_true = test_data['Revenue'].values\n",
        "\n",
        "# Calculate the errors\n",
        "y_pred = test_forecast['yhat'].values\n",
        "\n",
        "mse = mean_squared_error(y_true, y_pred)\n",
        "mae = mean_absolute_error(y_true, y_pred)\n",
        "mape = mean_absolute_percentage_error(y_true, y_pred)\n",
        "print(\"Mean Squared Error:\", mse)\n",
        "print(\"Mean Absolute Error:\", mae)\n",
        "print(\"Mean Absolute Percentage Error:\", mape)"
      ],
      "metadata": {
        "colab": {
          "base_uri": "https://localhost:8080/"
        },
        "id": "AUvlUNX1hZdO",
        "outputId": "be20f51d-a8e8-47ee-827f-c515504001d4"
      },
      "execution_count": 104,
      "outputs": [
        {
          "output_type": "stream",
          "name": "stdout",
          "text": [
            "Mean Squared Error: 1.0785709484084356e+16\n",
            "Mean Absolute Error: 90540513.29788795\n",
            "Mean Absolute Percentage Error: 41.72165772192128\n"
          ]
        }
      ]
    },
    {
      "cell_type": "markdown",
      "source": [
        "# <b> 3<sup>rd</sup> model - ARIMA"
      ],
      "metadata": {
        "id": "o8JObuI0mgf_"
      }
    },
    {
      "cell_type": "markdown",
      "source": [
        "## Prepare Data"
      ],
      "metadata": {
        "id": "o-Tn-B4hjgEI"
      }
    },
    {
      "cell_type": "code",
      "source": [
        "# Prepare the time series data for the ARIMA model\n",
        "ts_data = train_data[['Date', 'Revenue']]\n",
        "ts_data.set_index('Date', inplace=True)"
      ],
      "metadata": {
        "id": "ofv0LpDKjieC"
      },
      "execution_count": 105,
      "outputs": []
    },
    {
      "cell_type": "markdown",
      "source": [
        "## Fitting"
      ],
      "metadata": {
        "id": "nMr_heC5m2y7"
      }
    },
    {
      "cell_type": "code",
      "source": [
        "# Fit the ARIMA model\n",
        "p, d, q = 2, 1, 2\n",
        "arima_model = ARIMA(ts_data, order=(p, d, q))\n",
        "arima_results = arima_model.fit()"
      ],
      "metadata": {
        "id": "8h2K6t86ogOk"
      },
      "execution_count": 106,
      "outputs": []
    },
    {
      "cell_type": "markdown",
      "source": [
        "# Prediction"
      ],
      "metadata": {
        "id": "CJKW3DP0wjD3"
      }
    },
    {
      "cell_type": "code",
      "source": [
        "# Get the forecast for the next months\n",
        "num_months_to_forecast = len(test_data)\n",
        "forecast = arima_results.forecast(steps=num_months_to_forecast)"
      ],
      "metadata": {
        "id": "wELyr8LSwbrD"
      },
      "execution_count": 107,
      "outputs": []
    },
    {
      "cell_type": "markdown",
      "source": [
        "## Evaluation"
      ],
      "metadata": {
        "id": "4Lj_8zvpwxq8"
      }
    },
    {
      "cell_type": "code",
      "source": [
        "# Prepare the test data for evaluation\n",
        "y_true = test_data['Revenue'].values\n",
        "y_pred = forecast.values\n",
        "\n",
        "# Calculate the errors\n",
        "mse = mean_squared_error(y_true, y_pred)\n",
        "mae = mean_absolute_error(y_true, y_pred)\n",
        "mape = mean_absolute_percentage_error(y_true, y_pred)\n",
        "\n",
        "# Print the metrics\n",
        "print(\"Mean Squared Error:\", mse)\n",
        "print(\"Mean Absolute Error:\", mae)\n",
        "print(\"Mean Absolute Percentage Error:\", mape)"
      ],
      "metadata": {
        "colab": {
          "base_uri": "https://localhost:8080/"
        },
        "id": "07vbIChIwrtE",
        "outputId": "13ff6694-42df-461c-85b1-f4e085b5900e"
      },
      "execution_count": 108,
      "outputs": [
        {
          "output_type": "stream",
          "name": "stdout",
          "text": [
            "Mean Squared Error: 818967297513702.2\n",
            "Mean Absolute Error: 23118741.946866117\n",
            "Mean Absolute Percentage Error: 11.948616876844435\n"
          ]
        }
      ]
    },
    {
      "cell_type": "markdown",
      "source": [
        "# <b> Comparing all 3 models"
      ],
      "metadata": {
        "id": "X0nqt1OlzYtZ"
      }
    },
    {
      "cell_type": "code",
      "source": [
        "# True revenue values\n",
        "true_revenue_dates = test_data['Date']\n",
        "true_revenue = test_data['Revenue']\n",
        "\n",
        "# LSTM predictions\n",
        "lstm_dates = test_data['Date']\n",
        "lstm_pred = y_pred_unscaled.flatten()\n",
        "\n",
        "# Prophet predictions\n",
        "prophet_dates = test_forecast['ds']\n",
        "prophet_pred = test_forecast['yhat'].values\n",
        "\n",
        "# ARIMA predictions\n",
        "arima_dates = test_data['Date']\n",
        "arima_pred = forecast.values\n",
        "\n",
        "# Plot the true revenue values and the predictions from each model\n",
        "plt.figure(figsize=(12, 6))\n",
        "plt.plot(true_revenue_dates, true_revenue, label=\"True Revenue\", marker='o', linestyle='-')\n",
        "plt.plot(lstm_dates, lstm_pred, label=\"LSTM Predictions\", marker='x', linestyle='--')\n",
        "plt.plot(prophet_dates, prophet_pred, label=\"Prophet Predictions\", marker='s', linestyle=':')\n",
        "plt.plot(arima_dates, arima_pred, label=\"ARIMA Predictions\", marker='d', linestyle='-.')\n",
        "\n",
        "plt.xlabel(\"Date\")\n",
        "plt.ylabel(\"Revenue\")\n",
        "plt.title(\"Revenue Predictions Comparison: LSTM vs. Prophet vs. ARIMA\")\n",
        "plt.legend()\n",
        "plt.show()"
      ],
      "metadata": {
        "colab": {
          "base_uri": "https://localhost:8080/",
          "height": 404
        },
        "id": "44H9i8OvmhOs",
        "outputId": "d48a25bf-7cae-4517-f9a5-b64d85f4c27f"
      },
      "execution_count": 109,
      "outputs": [
        {
          "output_type": "display_data",
          "data": {
            "text/plain": [
              "<Figure size 864x432 with 1 Axes>"
            ],
            "image/png": "[encoded data removed]"
          },
          "metadata": {
            "needs_background": "light"
          }
        }
      ]
    },
    {
      "cell_type": "markdown",
      "source": [
        "# <b> Summary of Model Performances\n"
      ],
      "metadata": {
        "id": "pCO7RSTXftNe"
      }
    },
    {
      "cell_type": "code",
      "source": [
        "# Calculate the errors\n",
        "mse = mean_squared_error(y_true, y_pred)\n",
        "mae = mean_absolute_error(y_true, y_pred)\n",
        "mape = mean_absolute_percentage_error(y_true, y_pred)"
      ],
      "metadata": {
        "id": "SjJEFkVWisrO"
      },
      "execution_count": 110,
      "outputs": []
    },
    {
      "cell_type": "code",
      "source": [
        "# Randomly select an index from the test set\n",
        "random_index = random.randint(0, len(y_test) - 1)\n",
        "\n",
        "# Get the true revenue value\n",
        "true_revenue_value = y_test.iloc[random_index]\n",
        "\n",
        "# Get the corresponding input values for the selected index\n",
        "input_values = X_test_scaled.iloc[random_index].values\n",
        "\n",
        "# LSTM prediction\n",
        "input_tensor = torch.tensor(input_values).to(device).unsqueeze(0).float()\n",
        "with torch.no_grad():\n",
        "    lstm_prediction_scaled = model(input_tensor).item()\n",
        "\n",
        "lstm_prediction = y_scaler.inverse_transform([[lstm_prediction_scaled]])[0][0]\n",
        "\n",
        "# Prophet prediction\n",
        "prophet_prediction = test_forecast.iloc[random_index]['yhat']\n",
        "\n",
        "# ARIMA prediction\n",
        "arima_prediction = arima_pred[random_index]\n",
        "\n",
        "# Compare the true value and the predictions from all models\n",
        "print(f\"True revenue value: {true_revenue_value:.2f}\")\n",
        "print(f\"LSTM prediction: {lstm_prediction:.2f}\")\n",
        "print(f\"Prophet prediction: {prophet_prediction:.2f}\")\n",
        "print(f\"ARIMA prediction: {arima_prediction:.2f}\")"
      ],
      "metadata": {
        "colab": {
          "base_uri": "https://localhost:8080/"
        },
        "id": "vDerlscE-fsF",
        "outputId": "c3d1f3fd-658f-4179-8bd0-19865cd614f2"
      },
      "execution_count": 111,
      "outputs": [
        {
          "output_type": "stream",
          "name": "stdout",
          "text": [
            "True revenue value: 225790723.80\n",
            "LSTM prediction: 154165898.71\n",
            "Prophet prediction: 404345007.63\n",
            "ARIMA prediction: 224588007.92\n"
          ]
        }
      ]
    },
    {
      "cell_type": "code",
      "source": [
        "# True revenue values\n",
        "y_true = true_revenue\n",
        "\n",
        "# Model predictions\n",
        "arima_predictions = arima_pred\n",
        "lstm_predictions = lstm_pred\n",
        "prophet_predictions = prophet_pred\n",
        "\n",
        "# Calculate the errors\n",
        "mse_arima = mean_squared_error(y_true, arima_predictions)\n",
        "mse_lstm = mean_squared_error(y_true, lstm_predictions)\n",
        "mse_prophet = mean_squared_error(y_true, prophet_predictions)\n",
        "\n",
        "mae_arima = mean_absolute_error(y_true, arima_predictions)\n",
        "mae_lstm = mean_absolute_error(y_true, lstm_predictions)\n",
        "mae_prophet = mean_absolute_error(y_true, prophet_predictions)\n",
        "\n",
        "mape_arima = mean_absolute_percentage_error(y_true, arima_predictions)\n",
        "mape_lstm = mean_absolute_percentage_error(y_true, lstm_predictions)\n",
        "mape_prophet = mean_absolute_percentage_error(y_true, prophet_predictions)\n",
        "\n",
        "arima_rmse = calculate_rmse(y_true, arima_predictions)\n",
        "lstm_rmse = calculate_rmse(y_true, lstm_predictions)\n",
        "prophet_rmse = calculate_rmse(y_true, prophet_predictions)"
      ],
      "metadata": {
        "id": "Fdy1uDXckbaS"
      },
      "execution_count": 116,
      "outputs": []
    },
    {
      "cell_type": "code",
      "source": [
        "# Print the metrics\n",
        "print(\"ARIMA Model Performance:\")\n",
        "print(\"Mean Squared Error:\", mse_arima)\n",
        "print(\"Mean Absolute Error:\", mae_arima)\n",
        "print(\"Mean Absolute Percentage Error:\", mape_arima)\n",
        "print(\"Root Mean Square Error:\", arima_rmse)\n",
        "\n",
        "print(\"\\nLSTM Model Performance:\")\n",
        "print(\"Mean Squared Error:\", mse_lstm)\n",
        "print(\"Mean Absolute Error:\", mae_lstm)\n",
        "print(\"Mean Absolute Percentage Error:\", mape_lstm)\n",
        "print(\"Root Mean Square Error:\", lstm_rmse)\n",
        "\n",
        "print(\"\\nProphet Model Performance:\")\n",
        "print(\"Mean Squared Error:\", mse_prophet)\n",
        "print(\"Mean Absolute Error:\", mae_prophet)\n",
        "print(\"Mean Absolute Percentage Error:\", mape_prophet)\n",
        "print(\"Root Mean Square Error:\", prophet_rmse)\n",
        "\n",
        "# Summary of Model Performance\n",
        "print(\"\\nModel Performance Summary:\")\n",
        "print(f\"ARIMA:   MSE={mse_arima:.2f},   MAE={mae_arima:.2f}, MAPE={mape_arima*100:.2f}%,  RMSE={arima_rmse:.0f}\")\n",
        "print(f\"LSTM:    MSE={mse_lstm:.2f},  MAE={mae_lstm:.2f}, MAPE={mape_lstm*100:.2f}%, RMSE={lstm_rmse:.0f}\")\n",
        "print(f\"Prophet: MSE={mse_prophet:.2f}, MAE={mae_prophet:.2f}, MAPE={mape_prophet*100:.2f}%, RMSE={prophet_rmse:.0f}\")"
      ],
      "metadata": {
        "colab": {
          "base_uri": "https://localhost:8080/"
        },
        "id": "i3oq6g6vwHFA",
        "outputId": "e17c44fc-a36b-439a-a7a0-9af2bb4caf90"
      },
      "execution_count": 137,
      "outputs": [
        {
          "output_type": "stream",
          "name": "stdout",
          "text": [
            "ARIMA Model Performance:\n",
            "Mean Squared Error: 480122187988010.0\n",
            "Mean Absolute Error: 16006615.940599238\n",
            "Mean Absolute Percentage Error: 7.609259546735108\n",
            "Root Mean Square Error: 21911690.669321023\n",
            "\n",
            "LSTM Model Performance:\n",
            "Mean Squared Error: 7745243852957134.0\n",
            "Mean Absolute Error: 76162837.76399986\n",
            "Mean Absolute Percentage Error: 35.41861486131176\n",
            "Root Mean Square Error: 88007067.06257819\n",
            "\n",
            "Prophet Model Performance:\n",
            "Mean Squared Error: 1.0785709484084356e+16\n",
            "Mean Absolute Error: 90540513.29788795\n",
            "Mean Absolute Percentage Error: 41.72165772192128\n",
            "Root Mean Square Error: 103854270.41814099\n",
            "\n",
            "Model Performance Summary:\n",
            "ARIMA:   MSE=480122187988010.00,   MAE=16006615.94, MAPE=760.93%,  RMSE=21911691\n",
            "LSTM:    MSE=7745243852957134.00,  MAE=76162837.76, MAPE=3541.86%, RMSE=88007067\n",
            "Prophet: MSE=10785709484084356.00, MAE=90540513.30, MAPE=4172.17%, RMSE=103854270\n"
          ]
        }
      ]
    },
    {
      "cell_type": "markdown",
      "source": [
        "# <b> Tuning ARIMA model"
      ],
      "metadata": {
        "id": "piVXpvXQGOrW"
      }
    },
    {
      "cell_type": "code",
      "source": [
        "# Optimize ARIMA parameters: \n",
        "p, d, q = 2, 1, 5 \n",
        "# 2, 1, 2 -> MAPE: 11.948616876844435\n",
        "# 5, 1, 2 -> MAPE: 10.602326063880676\n",
        "# 6, 1, 2 -> MAPE: 10.269471391310905\n",
        "# 7, 1, 2 -> MAPE: 10.268259618761041\n",
        "# 8, 1, 2 -> MAPE: 16.721928386086443\n",
        "# 2, 2, 2 -> MAPE: 27.89327706315853\n",
        "# 2, 3, 2 -> MAPE: 21.65528975853493\n",
        "# 2, 4, 2 -> MAPE: 122.13028156153875\n",
        "# 2, 5, 2 -> MAPE: 248.90280271276572\n",
        "# 2, 1, 3 -> MAPE: 21.39656440954773\n",
        "# 2, 1, 4 -> MAPE: 7.811919609653558\n",
        "# 2, 1, 5 -> MAPE: 7.609259546735108\n",
        "# 2, 1, 6 -> MAPE: 9.112295952131037\n",
        "# 3, 1, 2 -> MAPE: 11.801849373286796\n",
        "# 4, 1, 2 -> MAPE: 9.144385130568224\n",
        "# 4, 1, 3 -> MAPE: 10.002521203977881\n",
        "# 4, 1, 4 -> MAPE: 9.370263603527599\n",
        "# 4, 1, 5 -> MAPE: 8.15205924458995\n",
        "# 4, 1, 5 -> MAPE: 8.173407892338679\n",
        "\n",
        "arima_model = ARIMA(ts_data, order=(p, d, q))\n",
        "arima_results = arima_model.fit()\n",
        "\n",
        "# Get the forecast for the next months\n",
        "num_months_to_forecast = len(test_data)\n",
        "forecast = arima_results.forecast(steps=num_months_to_forecast)\n",
        "\n",
        "# Prepare the test data for evaluation\n",
        "y_true = test_data['Revenue'].values\n",
        "y_pred = forecast.values\n",
        "\n",
        "# Calculate the errors\n",
        "mse = mean_squared_error(y_true, y_pred)\n",
        "mae = mean_absolute_error(y_true, y_pred)\n",
        "mape = mean_absolute_percentage_error(y_true, y_pred)\n",
        "\n",
        "# Print the errors\n",
        "print(\"Mean Squared Error:\", mse)\n",
        "print(\"Mean Absolute Error:\", mae)\n",
        "print(\"Mean Absolute Percentage Error:\", mape)"
      ],
      "metadata": {
        "colab": {
          "base_uri": "https://localhost:8080/"
        },
        "id": "XTclVrYAGRqx",
        "outputId": "628c5621-960e-4995-ac05-d75677c30831"
      },
      "execution_count": 136,
      "outputs": [
        {
          "output_type": "stream",
          "name": "stdout",
          "text": [
            "Mean Squared Error: 480122187988010.0\n",
            "Mean Absolute Error: 16006615.940599238\n",
            "Mean Absolute Percentage Error: 7.609259546735108\n"
          ]
        }
      ]
    },
    {
      "cell_type": "markdown",
      "source": [
        "# <b> Comparing tuned model"
      ],
      "metadata": {
        "id": "BNqzznfWOY1u"
      }
    },
    {
      "cell_type": "code",
      "source": [
        "# True revenue values\n",
        "true_revenue_dates = test_data['Date']\n",
        "true_revenue = test_data['Revenue']\n",
        "\n",
        "# ARIMA predictions\n",
        "arima_dates = test_data['Date']\n",
        "arima_pred = forecast.values\n",
        "\n",
        "# Plot the true revenue values and the predictions from each model\n",
        "plt.figure(figsize=(12, 6))\n",
        "plt.plot(true_revenue_dates, true_revenue, label=\"True Revenue\", marker='o', linestyle='-')\n",
        "plt.plot(arima_dates, arima_pred, label=\"ARIMA Predictions\", marker='d', linestyle='-.')\n",
        "\n",
        "plt.xlabel(\"Date\")\n",
        "plt.ylabel(\"Revenue\")\n",
        "plt.title(\"Revenue Predictions Comparison: True value vs. ARIMA\")\n",
        "plt.legend()\n",
        "plt.show()"
      ],
      "metadata": {
        "colab": {
          "base_uri": "https://localhost:8080/",
          "height": 404
        },
        "id": "XnLgw11ZLtrn",
        "outputId": "6933592b-abb5-45ab-a2e4-0e9b69e48ab9"
      },
      "execution_count": 138,
      "outputs": [
        {
          "output_type": "display_data",
          "data": {
            "text/plain": [
              "<Figure size 864x432 with 1 Axes>"
            ],
            "image/png": "[encoded data removed]"
          },
          "metadata": {
            "needs_background": "light"
          }
        }
      ]
    },
    {
      "cell_type": "code",
      "source": [
        "# Randomly select an index from the test set\n",
        "random_index = random.randint(0, len(y_test) - 1)\n",
        "\n",
        "# Get the true revenue value\n",
        "true_revenue_value = y_test.iloc[random_index]\n",
        "\n",
        "# ARIMA prediction\n",
        "arima_prediction = arima_pred[random_index]\n",
        "\n",
        "# Compare the true value and the predictions from all models\n",
        "print(f\"True revenue value: {true_revenue_value:.2f}\")\n",
        "print(f\"ARIMA prediction: {arima_prediction:.2f}\")"
      ],
      "metadata": {
        "colab": {
          "base_uri": "https://localhost:8080/"
        },
        "id": "BVRItZrcL1ss",
        "outputId": "fb0fdc2d-b315-4086-a522-dd9f86200070"
      },
      "execution_count": 139,
      "outputs": [
        {
          "output_type": "stream",
          "name": "stdout",
          "text": [
            "True revenue value: 175167911.88\n",
            "ARIMA prediction: 217769244.09\n"
          ]
        }
      ]
    },
    {
      "cell_type": "markdown",
      "source": [
        "# <b> Conclusion\n"
      ],
      "metadata": {
        "id": "llNSpMzNi2ka"
      }
    },
    {
      "cell_type": "code",
      "source": [
        "# Conclusion\n",
        "print(\"\\nBased on the Mean Absolute Percentage Error (MAPE), the best model for monthly revenue forecasting is:\")\n",
        "best_model = min([('ARIMA', mape_arima), ('LSTM', mape_lstm), ('Prophet', mape_prophet)], key=lambda x: x[1])\n",
        "print(f\"{best_model[0]} with MAPE = {best_model[1]:.4f}%\")\n"
      ],
      "metadata": {
        "colab": {
          "base_uri": "https://localhost:8080/"
        },
        "id": "QFk0nkgEi2wE",
        "outputId": "b215ae7f-5493-4282-bdf4-d17e232966df"
      },
      "execution_count": 141,
      "outputs": [
        {
          "output_type": "stream",
          "name": "stdout",
          "text": [
            "\n",
            "Based on the Mean Absolute Percentage Error (MAPE), the best model for monthly revenue forecasting is:\n",
            "ARIMA with MAPE = 7.6093%\n"
          ]
        }
      ]
    },
    {
      "cell_type": "markdown",
      "source": [
        "<b> Accuracy </b>\n",
        "\n",
        "- The tuned ARIMA model demonstrates a reasonable level of accuracy in forecasting monthly revenue amongst all compared models. The model achieved a Mean Absolute Error (MAE) of 16006599.74, a Mean Squared Error (MSE) of 480121386522900.00, a Mean Absolute Percentage Error (MAPE) of 7.61%, and a Root Mean Squared Error (RMSE) of 21911672. These metrics indicate that, on average, the model's predictions deviate from the true revenue values by 16006599.74 units (MAE), and the square root of the average squared deviation is 21911672 units (RMSE). The MAPE value of 7.61% represents the average percentage error of the model's predictions relative to the true revenue values. In comparison with other models such as LSTM and Prophet, the ARIMA model's performance is [bette], depending on all used metric values.\n",
        "\n",
        "<b> Why I chose the ARIMA model? </b>\n",
        "\n",
        "- ARIMA (AutoRegressive Integrated Moving Average) is a classical time series forecasting model that aims to predict future data points based on past observations. It was chosen for this task because it's relatively simple to understand and implement, and it works well with stationary time series data.\n",
        "\n",
        "- Benefits of ARIMA compared to LSTM and Prophet:\n",
        "\n",
        "  1. Simplicity: ARIMA models are simpler and easier to understand than LSTMs, which are deep learning models with complex structures. ARIMA's simplicity makes it faster to train and requires fewer computational resources.\n",
        "\n",
        "  2. Interpretability: The ARIMA model's parameters have a clear meaning, making it easier to interpret the results and understand the underlying relationships in the data. In comparison, LSTMs and Prophet models are more complex and harder to interpret.\n",
        "\n",
        "  3. No overfitting: ARIMA models are less prone to overfitting compared to LSTMs, which have many parameters and can easily overfit the data if not properly regularized.\n",
        "\n",
        "<b> ARIMA model results </b>\n",
        "\n",
        "- ARIMA model is combined of the pramameters p, d, q and the AIC (Akaike Information Criterion). Lower AIC values suggest a better-fitting model. In our tuned case case, the ARIMA model of 2, 1, 5 suggests that it best fits the given data among the tested models.\n",
        "\n"
      ],
      "metadata": {
        "id": "Xz0WPXt0ngQY"
      }
    }
  ]
}