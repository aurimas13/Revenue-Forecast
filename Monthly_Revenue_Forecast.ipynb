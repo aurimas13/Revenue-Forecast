{
 "cells": [
  {
   "cell_type": "markdown",
   "metadata": {
    "id": "h8IKeuxLQl6Y",
    "pycharm": {
     "name": "#%% md\n"
    }
   },
   "source": [
    "<a href=\"https://colab.research.google.com/github/aurimas13/Revenue-Forecast/blob/main/Monthly_Revenue_Forecast.ipynb\" target=\"_parent\"><img src=\"https://colab.research.google.com/assets/colab-badge.svg\" alt=\"Open In Colab\"/></a>\n"
   ]
  },
  {
   "cell_type": "markdown",
   "metadata": {
    "id": "MBku_roIbAf6",
    "pycharm": {
     "name": "#%% md\n"
    }
   },
   "source": [
    "# <b> Installations </b>\n",
    "\n",
    "Using the `Prophet` and `pmdarima` packages for time series forecasting. To install these packages, run the following commands:\n",
    "\n"
   ]
  },
  {
   "cell_type": "code",
   "execution_count": 43,
   "metadata": {
    "colab": {
     "base_uri": "https://localhost:8080/"
    },
    "id": "2KxY4QtMbFTZ",
    "outputId": "00a71c1f-9c87-4d32-96a7-ef9df14276ba",
    "pycharm": {
     "name": "#%%\n"
    }
   },
   "outputs": [
    {
     "name": "stdout",
     "output_type": "stream",
     "text": [
      "Requirement already satisfied: prophet in /Users/aurimasnausedas/opt/miniconda3/lib/python3.9/site-packages (1.1.2)\n",
      "Requirement already satisfied: matplotlib>=2.0.0 in /Users/aurimasnausedas/opt/miniconda3/lib/python3.9/site-packages (from prophet) (3.5.1)\n",
      "Requirement already satisfied: pandas>=1.0.4 in /Users/aurimasnausedas/opt/miniconda3/lib/python3.9/site-packages (from prophet) (1.3.5)\n",
      "Requirement already satisfied: numpy>=1.15.4 in /Users/aurimasnausedas/opt/miniconda3/lib/python3.9/site-packages (from prophet) (1.24.1)\n",
      "Requirement already satisfied: python-dateutil>=2.8.0 in /Users/aurimasnausedas/opt/miniconda3/lib/python3.9/site-packages (from prophet) (2.8.2)\n",
      "Requirement already satisfied: tqdm>=4.36.1 in /Users/aurimasnausedas/opt/miniconda3/lib/python3.9/site-packages (from prophet) (4.64.1)\n",
      "Requirement already satisfied: LunarCalendar>=0.0.9 in /Users/aurimasnausedas/opt/miniconda3/lib/python3.9/site-packages (from prophet) (0.0.9)\n",
      "Requirement already satisfied: convertdate>=2.1.2 in /Users/aurimasnausedas/opt/miniconda3/lib/python3.9/site-packages (from prophet) (2.4.0)\n",
      "Requirement already satisfied: cmdstanpy>=1.0.4 in /Users/aurimasnausedas/opt/miniconda3/lib/python3.9/site-packages (from prophet) (1.1.0)\n",
      "Requirement already satisfied: holidays>=0.14.2 in /Users/aurimasnausedas/opt/miniconda3/lib/python3.9/site-packages (from prophet) (0.21.13)\n",
      "Requirement already satisfied: pymeeus<=1,>=0.3.13 in /Users/aurimasnausedas/opt/miniconda3/lib/python3.9/site-packages (from convertdate>=2.1.2->prophet) (0.5.12)\n",
      "Requirement already satisfied: hijri-converter in /Users/aurimasnausedas/opt/miniconda3/lib/python3.9/site-packages (from holidays>=0.14.2->prophet) (2.2.4)\n",
      "Requirement already satisfied: korean-lunar-calendar in /Users/aurimasnausedas/opt/miniconda3/lib/python3.9/site-packages (from holidays>=0.14.2->prophet) (0.3.1)\n",
      "Requirement already satisfied: ephem>=3.7.5.3 in /Users/aurimasnausedas/opt/miniconda3/lib/python3.9/site-packages (from LunarCalendar>=0.0.9->prophet) (4.1.4)\n",
      "Requirement already satisfied: pytz in /Users/aurimasnausedas/opt/miniconda3/lib/python3.9/site-packages (from LunarCalendar>=0.0.9->prophet) (2022.7)\n",
      "Requirement already satisfied: pillow>=6.2.0 in /Users/aurimasnausedas/opt/miniconda3/lib/python3.9/site-packages (from matplotlib>=2.0.0->prophet) (8.4.0)\n",
      "Requirement already satisfied: cycler>=0.10 in /Users/aurimasnausedas/opt/miniconda3/lib/python3.9/site-packages (from matplotlib>=2.0.0->prophet) (0.11.0)\n",
      "Requirement already satisfied: kiwisolver>=1.0.1 in /Users/aurimasnausedas/opt/miniconda3/lib/python3.9/site-packages (from matplotlib>=2.0.0->prophet) (1.4.4)\n",
      "Requirement already satisfied: fonttools>=4.22.0 in /Users/aurimasnausedas/opt/miniconda3/lib/python3.9/site-packages (from matplotlib>=2.0.0->prophet) (4.38.0)\n",
      "Requirement already satisfied: pyparsing>=2.2.1 in /Users/aurimasnausedas/opt/miniconda3/lib/python3.9/site-packages (from matplotlib>=2.0.0->prophet) (3.0.9)\n",
      "Requirement already satisfied: packaging>=20.0 in /Users/aurimasnausedas/opt/miniconda3/lib/python3.9/site-packages (from matplotlib>=2.0.0->prophet) (21.3)\n",
      "Requirement already satisfied: six>=1.5 in /Users/aurimasnausedas/opt/miniconda3/lib/python3.9/site-packages (from python-dateutil>=2.8.0->prophet) (1.16.0)\n",
      "Requirement already satisfied: pmdarima in /Users/aurimasnausedas/opt/miniconda3/lib/python3.9/site-packages (2.0.3)\n",
      "Requirement already satisfied: setuptools!=50.0.0,>=38.6.0 in /Users/aurimasnausedas/opt/miniconda3/lib/python3.9/site-packages (from pmdarima) (62.1.0)\n",
      "Requirement already satisfied: pandas>=0.19 in /Users/aurimasnausedas/opt/miniconda3/lib/python3.9/site-packages (from pmdarima) (1.3.5)\n",
      "Requirement already satisfied: scipy>=1.3.2 in /Users/aurimasnausedas/opt/miniconda3/lib/python3.9/site-packages (from pmdarima) (1.9.3)\n",
      "Requirement already satisfied: Cython!=0.29.18,!=0.29.31,>=0.29 in /Users/aurimasnausedas/opt/miniconda3/lib/python3.9/site-packages (from pmdarima) (0.29.33)\n",
      "Requirement already satisfied: statsmodels>=0.13.2 in /Users/aurimasnausedas/opt/miniconda3/lib/python3.9/site-packages (from pmdarima) (0.13.2)\n",
      "Requirement already satisfied: urllib3 in /Users/aurimasnausedas/opt/miniconda3/lib/python3.9/site-packages (from pmdarima) (1.26.13)\n",
      "Requirement already satisfied: numpy>=1.21.2 in /Users/aurimasnausedas/opt/miniconda3/lib/python3.9/site-packages (from pmdarima) (1.24.1)\n",
      "Requirement already satisfied: joblib>=0.11 in /Users/aurimasnausedas/opt/miniconda3/lib/python3.9/site-packages (from pmdarima) (1.2.0)\n",
      "Requirement already satisfied: scikit-learn>=0.22 in /Users/aurimasnausedas/opt/miniconda3/lib/python3.9/site-packages (from pmdarima) (0.23.2)\n",
      "Requirement already satisfied: python-dateutil>=2.7.3 in /Users/aurimasnausedas/opt/miniconda3/lib/python3.9/site-packages (from pandas>=0.19->pmdarima) (2.8.2)\n",
      "Requirement already satisfied: pytz>=2017.3 in /Users/aurimasnausedas/opt/miniconda3/lib/python3.9/site-packages (from pandas>=0.19->pmdarima) (2022.7)\n",
      "Requirement already satisfied: threadpoolctl>=2.0.0 in /Users/aurimasnausedas/opt/miniconda3/lib/python3.9/site-packages (from scikit-learn>=0.22->pmdarima) (3.1.0)\n",
      "Requirement already satisfied: patsy>=0.5.2 in /Users/aurimasnausedas/opt/miniconda3/lib/python3.9/site-packages (from statsmodels>=0.13.2->pmdarima) (0.5.2)\n",
      "Requirement already satisfied: packaging>=21.3 in /Users/aurimasnausedas/opt/miniconda3/lib/python3.9/site-packages (from statsmodels>=0.13.2->pmdarima) (21.3)\n",
      "Requirement already satisfied: pyparsing!=3.0.5,>=2.0.2 in /Users/aurimasnausedas/opt/miniconda3/lib/python3.9/site-packages (from packaging>=21.3->statsmodels>=0.13.2->pmdarima) (3.0.9)\n",
      "Requirement already satisfied: six in /Users/aurimasnausedas/opt/miniconda3/lib/python3.9/site-packages (from patsy>=0.5.2->statsmodels>=0.13.2->pmdarima) (1.16.0)\n",
      "Requirement already satisfied: pickle5 in /Users/aurimasnausedas/opt/miniconda3/lib/python3.9/site-packages (0.0.11)\n"
     ]
    }
   ],
   "source": [
    "!python -m pip install prophet\n",
    "!pip install pmdarima\n",
    "!pip install pickle5"
   ]
  },
  {
   "cell_type": "markdown",
   "metadata": {
    "id": "We4SBEHka5SL",
    "pycharm": {
     "name": "#%% md\n"
    }
   },
   "source": [
    "# <b> Imports </b>\n",
    "\n",
    "Importing several libraries and packages to perform time series forecasting and data analysis. "
   ]
  },
  {
   "cell_type": "code",
   "execution_count": 44,
   "metadata": {
    "id": "kzbFVkZRa1Fy",
    "pycharm": {
     "name": "#%%\n"
    }
   },
   "outputs": [],
   "source": [
    "import warnings\n",
    "import logging\n",
    "import numpy as np\n",
    "import pandas as pd\n",
    "import seaborn as sns\n",
    "import matplotlib.pyplot as plt\n",
    "import torch\n",
    "import torch.nn as nn\n",
    "import random\n",
    "import requests\n",
    "import pickle\n",
    "from torch.utils.data import DataLoader, TensorDataset\n",
    "from sklearn.preprocessing import StandardScaler\n",
    "from sklearn.metrics import mean_squared_error, mean_absolute_error\n",
    "from statsmodels.tsa.arima.model import ARIMA\n",
    "from prophet import Prophet\n",
    "from pmdarima import auto_arima\n",
    "\n",
    "# Disable warnings and set logger level\n",
    "warnings.filterwarnings(\"ignore\")\n",
    "logging.getLogger(\"cmdstanpy\").setLevel(logging.WARNING)\n",
    "\n",
    "# Set the default figure size\n",
    "plt.rcParams['figure.figsize'] = (20, 12)\n"
   ]
  },
  {
   "cell_type": "markdown",
   "metadata": {
    "id": "3IPfMeoacMwn",
    "pycharm": {
     "name": "#%% md\n"
    }
   },
   "source": [
    "# <b> Loading data </b>\n",
    "\n",
    "Loading two separate datasets of Revenue and Weather from an Excel file hosted on GitHub."
   ]
  },
  {
   "cell_type": "code",
   "execution_count": 45,
   "metadata": {
    "id": "08fxA5sxbdSF",
    "pycharm": {
     "name": "#%%\n"
    }
   },
   "outputs": [],
   "source": [
    "url = \"https://github.com/aurimas13/Revenue-Forecast/blob/main/Dataset/Barbora%20Homework.xlsx?raw=true\"\n",
    "\n",
    "revenue_data = pd.read_excel(url, sheet_name='Revenue', parse_dates=['Date'], engine='openpyxl')\n",
    "weather_data = pd.read_excel(url, sheet_name='Weather', parse_dates=['dt'], engine='openpyxl')"
   ]
  },
  {
   "cell_type": "markdown",
   "metadata": {
    "id": "KvadF6zsh4xj",
    "pycharm": {
     "name": "#%% md\n"
    }
   },
   "source": [
    "# <b> Exploratory Data Analysis </b>"
   ]
  },
  {
   "cell_type": "markdown",
   "metadata": {
    "id": "GuTznuKakurD",
    "pycharm": {
     "name": "#%% md\n"
    }
   },
   "source": [
    "1. Display the first few rows of the datasets:"
   ]
  },
  {
   "cell_type": "code",
   "execution_count": 46,
   "metadata": {
    "colab": {
     "base_uri": "https://localhost:8080/"
    },
    "id": "4RooMfrOh-lS",
    "outputId": "f7e4f68a-0de0-4ae9-c378-b582b9b38e09",
    "pycharm": {
     "name": "#%%\n"
    }
   },
   "outputs": [
    {
     "name": "stdout",
     "output_type": "stream",
     "text": [
      "Revenue Data:\n",
      "        Date     Revenue\n",
      "0 2018-01-01        0.00\n",
      "1 2018-01-02        0.00\n",
      "2 2018-01-03  3087464.68\n",
      "3 2018-01-04  2770763.36\n",
      "4 2018-01-05        0.00\n",
      "\n",
      "Weather Data:\n",
      "       time  temperature  dew_point  humidity wind  wind_speed  pressure  \\\n",
      "0  00:20:00            0          0       1.0    S          11       982   \n",
      "1  00:50:00            0          0       1.0    S          14       983   \n",
      "2  01:20:00            0          0       1.0    S          11       982   \n",
      "3  01:50:00            0          0       1.0    S          14       982   \n",
      "4  02:20:00            0          0       1.0    S          14       981   \n",
      "\n",
      "   precipitation      condition         dt  \n",
      "0              0           Mist 2018-01-01  \n",
      "1              0           Mist 2018-01-01  \n",
      "2              0           Mist 2018-01-01  \n",
      "3              0  Mostly Cloudy 2018-01-01  \n",
      "4              0     Light Rain 2018-01-01  \n"
     ]
    }
   ],
   "source": [
    "print(\"Revenue Data:\")\n",
    "print(revenue_data.head())\n",
    "print(\"\\nWeather Data:\")\n",
    "print(weather_data.head())"
   ]
  },
  {
   "cell_type": "markdown",
   "metadata": {
    "id": "fgDiASrHk0vv",
    "pycharm": {
     "name": "#%% md\n"
    }
   },
   "source": [
    "2. Examine the dataset shape, column types, and missing values:"
   ]
  },
  {
   "cell_type": "code",
   "execution_count": 47,
   "metadata": {
    "colab": {
     "base_uri": "https://localhost:8080/"
    },
    "id": "KzAAcq3Xk0_h",
    "outputId": "709f0cea-04f9-44c7-cf9d-35c6ee32820d",
    "pycharm": {
     "name": "#%%\n"
    }
   },
   "outputs": [
    {
     "name": "stdout",
     "output_type": "stream",
     "text": [
      "Revenue Data Info:\n",
      "<class 'pandas.core.frame.DataFrame'>\n",
      "RangeIndex: 1749 entries, 0 to 1748\n",
      "Data columns (total 2 columns):\n",
      " #   Column   Non-Null Count  Dtype         \n",
      "---  ------   --------------  -----         \n",
      " 0   Date     1749 non-null   datetime64[ns]\n",
      " 1   Revenue  1749 non-null   float64       \n",
      "dtypes: datetime64[ns](1), float64(1)\n",
      "memory usage: 27.5 KB\n",
      "None\n",
      "\n",
      "Weather Data Info:\n",
      "<class 'pandas.core.frame.DataFrame'>\n",
      "RangeIndex: 86990 entries, 0 to 86989\n",
      "Data columns (total 10 columns):\n",
      " #   Column         Non-Null Count  Dtype         \n",
      "---  ------         --------------  -----         \n",
      " 0   time           86990 non-null  object        \n",
      " 1   temperature    86990 non-null  int64         \n",
      " 2   dew_point      86990 non-null  int64         \n",
      " 3   humidity       86990 non-null  float64       \n",
      " 4   wind           86990 non-null  object        \n",
      " 5   wind_speed     86990 non-null  int64         \n",
      " 6   pressure       86990 non-null  int64         \n",
      " 7   precipitation  86990 non-null  int64         \n",
      " 8   condition      86990 non-null  object        \n",
      " 9   dt             86990 non-null  datetime64[ns]\n",
      "dtypes: datetime64[ns](1), float64(1), int64(5), object(3)\n",
      "memory usage: 6.6+ MB\n",
      "None\n"
     ]
    }
   ],
   "source": [
    "print(\"Revenue Data Info:\")\n",
    "print(revenue_data.info())\n",
    "print(\"\\nWeather Data Info:\")\n",
    "print(weather_data.info())\n"
   ]
  },
  {
   "cell_type": "markdown",
   "metadata": {
    "id": "BP3yL62ek1Hq",
    "pycharm": {
     "name": "#%% md\n"
    }
   },
   "source": [
    "3. Calculate and display summary statistics:\n"
   ]
  },
  {
   "cell_type": "code",
   "execution_count": 48,
   "metadata": {
    "colab": {
     "base_uri": "https://localhost:8080/"
    },
    "id": "aQCbXMgQk1QE",
    "outputId": "1490b1a0-2f65-4834-df5f-2f13f6360c02",
    "pycharm": {
     "name": "#%%\n"
    }
   },
   "outputs": [
    {
     "name": "stdout",
     "output_type": "stream",
     "text": [
      "Revenue Data Summary Statistics:\n",
      "            Revenue\n",
      "count  1.749000e+03\n",
      "mean   6.376979e+08\n",
      "std    2.644243e+10\n",
      "min    0.000000e+00\n",
      "25%    3.269451e+06\n",
      "50%    5.059526e+06\n",
      "75%    7.218968e+06\n",
      "max    1.105855e+12\n",
      "\n",
      "Weather Data Summary Statistics:\n",
      "        temperature     dew_point      humidity    wind_speed      pressure  \\\n",
      "count  86990.000000  86990.000000  86990.000000  86990.000000  86990.000000   \n",
      "mean       7.880251      3.722911      0.779709     13.511185    992.038694   \n",
      "std        9.178441      7.727982      0.192704      7.444308      9.052114   \n",
      "min     -237.000000    -25.000000      0.150000      0.000000    952.000000   \n",
      "25%        1.000000     -1.000000      0.650000      9.000000    987.000000   \n",
      "50%        7.000000      3.000000      0.850000     12.000000    993.000000   \n",
      "75%       15.000000     10.000000      0.930000     19.000000    998.000000   \n",
      "max      340.000000     22.000000      1.000000     49.000000   1024.000000   \n",
      "\n",
      "       precipitation  \n",
      "count        86990.0  \n",
      "mean             0.0  \n",
      "std              0.0  \n",
      "min              0.0  \n",
      "25%              0.0  \n",
      "50%              0.0  \n",
      "75%              0.0  \n",
      "max              0.0  \n"
     ]
    }
   ],
   "source": [
    "print(\"Revenue Data Summary Statistics:\")\n",
    "print(revenue_data.describe())\n",
    "print(\"\\nWeather Data Summary Statistics:\")\n",
    "print(weather_data.describe())"
   ]
  },
  {
   "cell_type": "markdown",
   "metadata": {
    "id": "9KzYXN1pk1ae",
    "pycharm": {
     "name": "#%% md\n"
    }
   },
   "source": [
    "4. Calculate the number of zero values in each column:\n"
   ]
  },
  {
   "cell_type": "code",
   "execution_count": 49,
   "metadata": {
    "colab": {
     "base_uri": "https://localhost:8080/"
    },
    "id": "IIImzvzqk1iU",
    "outputId": "23521129-2a59-4ec8-e133-e20ffaff00a9",
    "pycharm": {
     "name": "#%%\n"
    }
   },
   "outputs": [
    {
     "name": "stdout",
     "output_type": "stream",
     "text": [
      "Zero values in Revenue Data:\n",
      "Date       0\n",
      "Revenue    5\n",
      "dtype: int64\n",
      "\n",
      "Zero values in Weather Data:\n",
      "time                 0\n",
      "temperature       4461\n",
      "dew_point         5312\n",
      "humidity             0\n",
      "wind                 0\n",
      "wind_speed         365\n",
      "pressure             0\n",
      "precipitation    86990\n",
      "condition            0\n",
      "dt                   0\n",
      "dtype: int64\n"
     ]
    }
   ],
   "source": [
    "print(\"Zero values in Revenue Data:\")\n",
    "print((revenue_data == 0).sum())\n",
    "print(\"\\nZero values in Weather Data:\")\n",
    "print((weather_data == 0).sum())"
   ]
  },
  {
   "cell_type": "markdown",
   "metadata": {
    "id": "e0hcjFwDk1sL",
    "pycharm": {
     "name": "#%% md\n"
    }
   },
   "source": [
    "5. Plot the correlation heatmap for both datasets:\n"
   ]
  },
  {
   "cell_type": "code",
   "execution_count": 50,
   "metadata": {
    "colab": {
     "base_uri": "https://localhost:8080/",
     "height": 717
    },
    "id": "BfVxr6TPk10B",
    "outputId": "716c615e-fcf5-436b-f806-b9c033c69e91",
    "pycharm": {
     "name": "#%%\n"
    }
   },
   "outputs": [
    {
     "data": {
      "image/png": "[encoded data removed]",
      "text/plain": [
       "<Figure size 2000x1200 with 2 Axes>"
      ]
     },
     "metadata": {},
     "output_type": "display_data"
    }
   ],
   "source": [
    "sns.heatmap(weather_data.corr(), annot=True, cmap='coolwarm')\n",
    "plt.title(\"Weather Data Correlation Heatmap\")\n",
    "plt.show()\n"
   ]
  },
  {
   "cell_type": "markdown",
   "metadata": {
    "id": "RtltujZJk19s",
    "pycharm": {
     "name": "#%% md\n"
    }
   },
   "source": [
    "6. Identify and plot outliers in the revenue_data dataset using box plots:\n"
   ]
  },
  {
   "cell_type": "code",
   "execution_count": 51,
   "metadata": {
    "colab": {
     "base_uri": "https://localhost:8080/",
     "height": 730
    },
    "id": "yNgrT4Afk2FH",
    "outputId": "e6aadb4a-0c6c-45a3-c4ce-c818239c4917",
    "pycharm": {
     "name": "#%%\n"
    }
   },
   "outputs": [
    {
     "data": {
      "image/png": "[encoded data removed]",
      "text/plain": [
       "<Figure size 2000x1200 with 1 Axes>"
      ]
     },
     "metadata": {},
     "output_type": "display_data"
    }
   ],
   "source": [
    "sns.boxplot(x=revenue_data['Revenue'])\n",
    "plt.title(\"Revenue Data Outliers\")\n",
    "plt.show()\n"
   ]
  },
  {
   "cell_type": "markdown",
   "metadata": {
    "id": "oAsVjn93lYPH",
    "pycharm": {
     "name": "#%% md\n"
    }
   },
   "source": [
    "7. Identify the most common values for categorical features (if any) in both datasets:\n",
    "\n"
   ]
  },
  {
   "cell_type": "code",
   "execution_count": 52,
   "metadata": {
    "colab": {
     "base_uri": "https://localhost:8080/"
    },
    "id": "_W_L-RXBlYWh",
    "outputId": "caff3db9-896e-40da-cf10-66681bfb4f42",
    "pycharm": {
     "name": "#%%\n"
    }
   },
   "outputs": [
    {
     "name": "stdout",
     "output_type": "stream",
     "text": [
      "Most common values in 'wind' and 'condition' features:\n",
      "S       12894\n",
      "W        7355\n",
      "SSE      6390\n",
      "SSW      6271\n",
      "VAR      6061\n",
      "N        5472\n",
      "NNW      4983\n",
      "NW       4626\n",
      "WSW      4542\n",
      "SW       4457\n",
      "WNW      4382\n",
      "SE       4320\n",
      "E        3567\n",
      "NNE      3211\n",
      "ESE      2998\n",
      "NE       2759\n",
      "ENE      2337\n",
      "CALM      365\n",
      "Name: wind, dtype: int64\n",
      "Fair                           32250\n",
      "Mostly Cloudy                  16223\n",
      "Cloudy                         10111\n",
      "Mist                            5149\n",
      "Light Rain                      3375\n",
      "Light Snow                      3191\n",
      "Partly Cloudy                   2952\n",
      "Fog                             2418\n",
      "Light Rain Shower               2369\n",
      "Wintry Mix                      1990\n",
      "Showers in the Vicinity         1582\n",
      "Snow                            1079\n",
      "Light Drizzle                    928\n",
      "Shallow Fog                      523\n",
      "Light Snow Shower                478\n",
      "Fair / Windy                     254\n",
      "Mostly Cloudy / Windy            239\n",
      "T-Storm                          226\n",
      "Rain Shower                      196\n",
      "Snow Shower                      180\n",
      "Rain                             175\n",
      "Thunder in the Vicinity          124\n",
      "Cloudy / Windy                   123\n",
      "Light Rain Shower / Windy        101\n",
      "Drizzle                           99\n",
      "Light Rain / Windy                86\n",
      "Partial Fog                       77\n",
      "Wintry Mix / Windy                75\n",
      "Thunder                           53\n",
      "Light Freezing Drizzle            48\n",
      "Heavy Snow                        38\n",
      "Light Rain with Thunder           36\n",
      "Partly Cloudy / Windy             25\n",
      "Snow / Windy                      21\n",
      "Light Freezing Rain               21\n",
      "Patches of Fog                    21\n",
      "Heavy Snow Shower                 18\n",
      "Mist / Windy                      17\n",
      "Light Snow / Windy                16\n",
      "Smoke                             15\n",
      "Haze                              12\n",
      "Light Snow Shower / Windy         12\n",
      "T-Storm / Windy                   10\n",
      "Snow Shower / Windy                8\n",
      "Light Drizzle / Windy              8\n",
      "Rain Shower / Windy                7\n",
      "Heavy Rain Shower                  5\n",
      "Light Freezing Rain / Windy        5\n",
      "Heavy Snow / Windy                 4\n",
      "Rain / Windy                       3\n",
      "Thunder / Windy                    3\n",
      "Heavy T-Storm                      2\n",
      "Freezing Rain                      2\n",
      "Fog / Windy                        2\n",
      "Heavy Snow Shower / Windy          2\n",
      "Snow and Thunder                   1\n",
      "Freezing Drizzle                   1\n",
      "Blowing Snow / Windy               1\n",
      "Name: condition, dtype: int64\n"
     ]
    }
   ],
   "source": [
    "# Example for a categorical column 'category_column' in weather_data\n",
    "print(\"Most common values in 'wind' and 'condition' features:\")\n",
    "print(weather_data['wind'].value_counts())\n",
    "print(weather_data['condition'].value_counts())"
   ]
  },
  {
   "cell_type": "markdown",
   "metadata": {
    "id": "t12usPlec0SL",
    "pycharm": {
     "name": "#%% md\n"
    }
   },
   "source": [
    "# <b> Data Preprocessing </b>\n",
    "\n",
    "1. The 'time' column is removed from the weather_data dataset as it is not required for the analysis.\n",
    "2. Categorical features 'wind' and 'condition' in weather_data are converted to numerical values using categorical encoding, making them suitable for machine learning algorithms.\n",
    "3. `revenue_data` is resampled to the monthly level to align with the desired forecasting frequency. The 'Date' column is set as the index, and the data is aggregated using the sum of revenue for each month.\n",
    "4. `weather_data` is also aggregated to the monthly level using appropriate aggregation functions for each feature, such as mean for continuous variables and median for categorical variables.\n",
    "5. The revenue_data and weather_data datasets are merged on the 'Date' and 'dt' columns, creating a single dataset with monthly revenue and weather information.\n",
    "6. The redundant 'dt' column is dropped from the merged dataset, as it duplicates the 'Date' column.\n",
    "7. A new 'lagged_revenue' column is added to the merged dataset, representing the revenue of the previous month. This can be useful as a predictor for the current month's revenue.\n",
    "8. Zero values in the dataset are replaced with NaNs to better handle missing or erroneous data.\n",
    "9. The 'precipitation' column is dropped from the dataset due to a large number of NaN values.\n",
    "10. Any remaining rows with NaN values are removed from the dataset.\n",
    "11. The data is filtered to only include rows with Revenue less than or equal to 10^9, removing potential outliers.\n",
    "\n",
    "After these preprocessing steps, the data is cleaned, transformed, and ready for further analysis and modeling.\n"
   ]
  },
  {
   "cell_type": "code",
   "execution_count": 53,
   "metadata": {
    "id": "_C98sFkEc0tl",
    "pycharm": {
     "name": "#%%\n"
    }
   },
   "outputs": [],
   "source": [
    "# Drop the 'time' column from the weather_data\n",
    "weather_data = weather_data.drop('time', axis=1)\n",
    "\n",
    "# Convert categorical features 'wind' and 'condition' to numerical values\n",
    "wind_categories = weather_data['wind'].astype('category').cat.categories\n",
    "condition_categories = weather_data['condition'].astype('category').cat.categories\n",
    "\n",
    "weather_data['wind'] = weather_data['wind'].astype('category').cat.codes\n",
    "weather_data['condition'] = weather_data['condition'].astype('category').cat.codes\n",
    "\n",
    "# Reseample revenue_data\n",
    "revenue_data['Date'] = pd.to_datetime(revenue_data['Date'])\n",
    "revenue_data.set_index('Date', inplace=True)\n",
    "monthly_revenue_data = revenue_data.resample('M').sum().reset_index()\n",
    "\n",
    "# Aggregate weather_data on 'dt' to monthly level\n",
    "monthly_weather_data = weather_data.resample('M', on='dt').agg({\n",
    "    'temperature': 'mean',\n",
    "    'dew_point': 'mean',\n",
    "    'humidity': 'mean',\n",
    "    'wind_speed': 'mean',\n",
    "    'pressure': 'mean',\n",
    "    'precipitation': 'sum',\n",
    "    'wind': 'median',\n",
    "    'condition': 'median'\n",
    "}).reset_index()\n"
   ]
  },
  {
   "cell_type": "code",
   "execution_count": 54,
   "metadata": {
    "id": "-mU5mTXsCV1Q",
    "pycharm": {
     "name": "#%%\n"
    }
   },
   "outputs": [],
   "source": [
    "# Merge revenue_data and monthly_weather_data on the Date and dt columns\n",
    "merged_data = pd.merge(monthly_revenue_data, monthly_weather_data, left_on='Date', right_on='dt', how='inner')\n",
    "\n",
    "# Drop the 'dt' column since it's a duplicate of 'Date'\n",
    "merged_data.drop(columns=['dt'], inplace=True)\n",
    "\n",
    "# Add the lagged revenue column to the merged_data\n",
    "merged_data['lagged_revenue'] = merged_data['Revenue'].shift(1).fillna(0)\n",
    "\n",
    "# Replace zeros with NaNs\n",
    "merged_data = merged_data.replace(0, np.nan)\n",
    "\n",
    "# Drop column 'precipitation' with NaNs values\n",
    "merged_data = merged_data.drop('precipitation', axis=1)\n",
    "\n",
    "# Drop rows with NaN values\n",
    "merged_data = merged_data.dropna()\n",
    "\n",
    "# Filter rows that have Revenue less than or equal to 10^9\n",
    "merged_data = merged_data[merged_data['Revenue'] <= 10**9]"
   ]
  },
  {
   "cell_type": "markdown",
   "metadata": {
    "id": "MbVF9hIio69i",
    "pycharm": {
     "name": "#%% md\n"
    }
   },
   "source": [
    "# <b> Splitting Data </b>\n",
    "\n",
    "1. The merged dataset is split into train and test sets based on a predefined date (January 1, 2022). All data before this date is assigned to the training set, and all data on or after this date is assigned to the test set. This temporal split ensures that the model is trained on historical data and tested on more recent, unseen data.\n",
    "2. The feature matrix (X) and target vector (y) are separated for both the train and test sets. The 'Date' and 'Revenue' columns are removed from the feature matrix, as 'Date' is not used as a predictor and 'Revenue' is the target variable we aim to predict. The target vector contains only the 'Revenue' column.\n",
    "\n",
    "After these steps, you have four datasets ready for model training and evaluation: `X_train`, `y_train`, `X_test`, and `y_test`."
   ]
  },
  {
   "cell_type": "code",
   "execution_count": 55,
   "metadata": {
    "id": "qe3VDts1cY7_",
    "pycharm": {
     "name": "#%%\n"
    }
   },
   "outputs": [],
   "source": [
    "# Split the data into train and test sets\n",
    "train_data = merged_data[merged_data['Date'] < '2022-01-01']\n",
    "test_data = merged_data[merged_data['Date'] >= '2022-01-01']\n",
    "\n",
    "# Separate the features (X) and the target (y)\n",
    "X_train = train_data.drop(columns=['Date', 'Revenue'])\n",
    "y_train = train_data['Revenue']\n",
    "X_test = test_data.drop(columns=['Date', 'Revenue'])\n",
    "y_test = test_data['Revenue']"
   ]
  },
  {
   "cell_type": "markdown",
   "metadata": {
    "id": "rIIO4CE8ZSDA",
    "pycharm": {
     "name": "#%% md\n"
    }
   },
   "source": [
    "# <b> Scaling Data </b>\n",
    "\n",
    "The process of scaling the feature data for both training and testing sets. A StandardScaler instance is used to transform the feature data (X_train and X_test) by fitting on the training data and applying the same scaling to the test data. The scaled features are then converted back to DataFrames with the same column names. Additionally, a separate StandardScaler instance is created for the target variable y (y_train) to scale the target values. This preprocessing step helps to standardize the data and improve the performance of machine learning models."
   ]
  },
  {
   "cell_type": "code",
   "execution_count": 56,
   "metadata": {
    "id": "EDuj8R1iZYqZ",
    "pycharm": {
     "name": "#%%\n"
    }
   },
   "outputs": [],
   "source": [
    "# Scale the features\n",
    "scaler = StandardScaler()\n",
    "X_train_scaled = scaler.fit_transform(X_train)\n",
    "X_test_scaled = scaler.transform(X_test)\n",
    "\n",
    "# Convert the scaled features back to DataFrames\n",
    "X_train_scaled = pd.DataFrame(X_train_scaled, columns=X_train.columns)\n",
    "X_test_scaled = pd.DataFrame(X_test_scaled, columns=X_test.columns)\n",
    "\n",
    "# Initialize a StandardScaler instance for the target variable y\n",
    "y_scaler = StandardScaler()\n",
    "y_train_scaled = y_scaler.fit_transform(y_train.to_numpy(dtype='float32').reshape(-1, 1))"
   ]
  },
  {
   "cell_type": "markdown",
   "metadata": {
    "id": "A28Ejputeluv",
    "pycharm": {
     "name": "#%% md\n"
    }
   },
   "source": [
    "# <b> Device Check </b>\n",
    "\n",
    "Check if GPU is available and set the device accordingly."
   ]
  },
  {
   "cell_type": "code",
   "execution_count": 57,
   "metadata": {
    "colab": {
     "base_uri": "https://localhost:8080/"
    },
    "id": "pzL9AIXhemHe",
    "outputId": "d29c2264-4bb4-400f-e203-7b5c2e7a16b7",
    "pycharm": {
     "name": "#%%\n"
    }
   },
   "outputs": [
    {
     "data": {
      "text/plain": [
       "device(type='cpu')"
      ]
     },
     "execution_count": 57,
     "metadata": {},
     "output_type": "execute_result"
    }
   ],
   "source": [
    "# Checking deivice to run on\n",
    "device = torch.device(\"cuda\" if torch.cuda.is_available() else \"cpu\")\n",
    "device"
   ]
  },
  {
   "cell_type": "markdown",
   "metadata": {
    "id": "X-SpGcEFv-YP",
    "pycharm": {
     "name": "#%% md\n"
    }
   },
   "source": [
    "# <b> MAPE & RMSE Metrics </b>\n",
    "\n",
    "Maunually defining MAPE & RMSE Metrics for a better accuracy response on them."
   ]
  },
  {
   "cell_type": "code",
   "execution_count": 58,
   "metadata": {
    "id": "cDVZdcT9kO2c",
    "pycharm": {
     "name": "#%%\n"
    }
   },
   "outputs": [],
   "source": [
    "# Definining the MAPE metric as a MAPE function\n",
    "def mean_absolute_percentage_error(y_true, y_pred):\n",
    "    y_true, y_pred = np.array(y_true), np.array(y_pred)\n",
    "    return np.mean(np.abs((y_true - y_pred) / (y_true + 1e-8))) * 100\n"
   ]
  },
  {
   "cell_type": "code",
   "execution_count": 59,
   "metadata": {
    "id": "TkPXqjtevsRz",
    "pycharm": {
     "name": "#%%\n"
    }
   },
   "outputs": [],
   "source": [
    "# Define RMSE metric as RMSE function\n",
    "def calculate_rmse(y_true, y_pred):\n",
    "    return np.sqrt(mean_squared_error(y_true, y_pred))"
   ]
  },
  {
   "cell_type": "markdown",
   "metadata": {
    "id": "eSEnVwimdtQY",
    "pycharm": {
     "name": "#%% md\n"
    }
   },
   "source": [
    "# <b> 1<sup>st</sup> model - LSTM </b>\n",
    "\n",
    "1. An LSTM model class is defined, which inherits from PyTorch's `nn.Module`. The class initializes the LSTM layers and a linear output layer.\n",
    "\n",
    "2. Hyperparameters, such as input size, hidden size, number of layers, output size, number of epochs, learning rate, and batch size, are defined for the LSTM model.\n",
    "\n",
    "3. The training and target data are converted from DataFrames to NumPy arrays and then to PyTorch tensors. A DataLoader is created with a TensorDataset and batch size.\n",
    "\n",
    "4. The LSTM model is initialized, and a Mean Squared Error (MSE) loss function and an Adam optimizer are defined.\n",
    "\n",
    "5. The model is trained by iterating through the epochs and updating the model parameters using the optimizer and the calculated loss from the outputs and targets.\n",
    "\n",
    "6. The model is evaluated on the test data, and the predictions are converted back to their original scale using the target variable scaler (y_scaler).\n",
    "\n",
    "7. The mean squared error (MSE), mean absolute error (MAE), and mean absolute percentage error (MAPE) are calculated and printed, providing an assessment of the LSTM model's performance on the test data."
   ]
  },
  {
   "cell_type": "markdown",
   "metadata": {
    "id": "hqh3SXMDebzj",
    "pycharm": {
     "name": "#%% md\n"
    }
   },
   "source": [
    "## *Neural Net Architecture*"
   ]
  },
  {
   "cell_type": "code",
   "execution_count": 60,
   "metadata": {
    "id": "WhDlXIVndtjS",
    "pycharm": {
     "name": "#%%\n"
    }
   },
   "outputs": [],
   "source": [
    "class LSTM(nn.Module):\n",
    "    def __init__(self, input_size, hidden_size, num_layers, output_size):\n",
    "        super(LSTM, self).__init__()\n",
    "        self.hidden_size = hidden_size\n",
    "        self.num_layers = num_layers\n",
    "        self.lstm = nn.LSTM(input_size, hidden_size, num_layers, batch_first=True)\n",
    "        self.fc = nn.Linear(hidden_size, output_size)\n",
    "\n",
    "    def forward(self, x):\n",
    "        # Initialize hidden and cell states\n",
    "        h0 = torch.zeros(self.num_layers, x.size(0), self.hidden_size).to(device)\n",
    "        c0 = torch.zeros(self.num_layers, x.size(0), self.hidden_size).to(device)\n",
    "\n",
    "        # Adding sequence_length dimension\n",
    "        x = x.unsqueeze(1)\n",
    "\n",
    "        # Forward propagate LSTM\n",
    "        out, _ = self.lstm(x, (h0, c0))\n",
    "\n",
    "        # Decode the hidden state of the last time step\n",
    "        out = self.fc(out[:, -1, :])\n",
    "        return out"
   ]
  },
  {
   "cell_type": "markdown",
   "metadata": {
    "id": "ob_A6ya9fBNN",
    "pycharm": {
     "name": "#%% md\n"
    }
   },
   "source": [
    "## *Hyperparameters*\n",
    "\n"
   ]
  },
  {
   "cell_type": "code",
   "execution_count": 61,
   "metadata": {
    "id": "yHrw9-3efBVQ",
    "pycharm": {
     "name": "#%%\n"
    }
   },
   "outputs": [],
   "source": [
    "# Define Hyperparameters\n",
    "input_size = X_train_scaled.shape[1]\n",
    "hidden_size = 64\n",
    "num_layers = 2\n",
    "output_size = 1\n",
    "num_epochs = 100\n",
    "learning_rate = 0.001\n",
    "batch_size = 32"
   ]
  },
  {
   "cell_type": "markdown",
   "metadata": {
    "id": "5jWhltBefLZ7",
    "pycharm": {
     "name": "#%% md\n"
    }
   },
   "source": [
    "## *Conversion*"
   ]
  },
  {
   "cell_type": "code",
   "execution_count": 62,
   "metadata": {
    "id": "n9x4ONyyfLit",
    "pycharm": {
     "name": "#%%\n"
    }
   },
   "outputs": [],
   "source": [
    "# Convert DataFrames to NumPy arrays and then to PyTorch tensors\n",
    "X_train_numpy = X_train_scaled.to_numpy(dtype='float32')\n",
    "y_train_numpy = y_train.to_numpy(dtype='float32').reshape(-1, 1)\n",
    "X_train_tensor = torch.tensor(X_train_numpy)\n",
    "y_train_tensor = torch.tensor(y_train_scaled)\n",
    "\n",
    "train_dataset = TensorDataset(X_train_tensor, y_train_tensor)\n",
    "train_loader = DataLoader(train_dataset, batch_size=batch_size, shuffle=True)\n"
   ]
  },
  {
   "cell_type": "markdown",
   "metadata": {
    "id": "qrlR16oRflFo",
    "pycharm": {
     "name": "#%% md\n"
    }
   },
   "source": [
    "## *Initialize Net & Define Loss with Optimizer*"
   ]
  },
  {
   "cell_type": "code",
   "execution_count": 63,
   "metadata": {
    "id": "8v7CnPk_flQw",
    "pycharm": {
     "name": "#%%\n"
    }
   },
   "outputs": [],
   "source": [
    "# Initialize Net\n",
    "model = LSTM(input_size, hidden_size, num_layers, output_size).to(device)\n",
    "\n",
    "# Define Loss with Optimizer\n",
    "criterion = nn.MSELoss()\n",
    "optimizer = torch.optim.Adam(model.parameters(), lr=learning_rate)"
   ]
  },
  {
   "cell_type": "markdown",
   "metadata": {
    "id": "jov10Ma7f_Cp",
    "pycharm": {
     "name": "#%% md\n"
    }
   },
   "source": [
    "## *Training and Testing*"
   ]
  },
  {
   "cell_type": "code",
   "execution_count": 64,
   "metadata": {
    "colab": {
     "base_uri": "https://localhost:8080/"
    },
    "id": "eyJy7XkWfzgb",
    "outputId": "0f77534a-0137-4b51-b16f-0d479d5257fa",
    "pycharm": {
     "name": "#%%\n"
    }
   },
   "outputs": [
    {
     "name": "stdout",
     "output_type": "stream",
     "text": [
      "Epoch [10/100], Loss: 1.4947\n",
      "Epoch [20/100], Loss: 0.8714\n",
      "Epoch [30/100], Loss: 0.7435\n",
      "Epoch [40/100], Loss: 0.5319\n",
      "Epoch [50/100], Loss: 0.5993\n",
      "Epoch [60/100], Loss: 0.8663\n",
      "Epoch [70/100], Loss: 0.9189\n",
      "Epoch [80/100], Loss: 0.9547\n",
      "Epoch [90/100], Loss: 0.5489\n",
      "Epoch [100/100], Loss: 0.6961\n"
     ]
    }
   ],
   "source": [
    "# Train and Test\n",
    "for epoch in range(num_epochs):\n",
    "    for i, (inputs, targets) in enumerate(train_loader):\n",
    "        inputs = inputs.to(device).float()\n",
    "        targets = targets.to(device).float()\n",
    "\n",
    "        optimizer.zero_grad()\n",
    "        outputs = model(inputs)\n",
    "        outputs = outputs.view(-1, 1)  # Reshape the output tensor\n",
    "        loss = criterion(outputs, targets)\n",
    "        loss.backward()\n",
    "        optimizer.step()\n",
    "\n",
    "    if (epoch+1) % 10 == 0:\n",
    "        print(f'Epoch [{epoch+1}/{num_epochs}], Loss: {loss.item():.4f}')"
   ]
  },
  {
   "cell_type": "markdown",
   "metadata": {
    "id": "DU7JhhNogPAU",
    "pycharm": {
     "name": "#%% md\n"
    }
   },
   "source": [
    "## *Evaluation*"
   ]
  },
  {
   "cell_type": "code",
   "execution_count": 65,
   "metadata": {
    "colab": {
     "base_uri": "https://localhost:8080/"
    },
    "id": "1fWZMENxgPKm",
    "outputId": "cc071381-bea2-45b7-de55-e0c0e0ac2587",
    "pycharm": {
     "name": "#%%\n"
    }
   },
   "outputs": [
    {
     "name": "stdout",
     "output_type": "stream",
     "text": [
      "Mean Squared Error: 7249950898164424.00\n",
      "Mean Absolute Error: 74647256.16\n",
      "Mean Absolute Percentage Error: 35.37402622378372\n"
     ]
    }
   ],
   "source": [
    "#LSTM model evalaution\n",
    "model.eval()\n",
    "X_test_np = X_test_scaled.to_numpy(dtype=np.float32)\n",
    "y_test_np = y_test.to_numpy(dtype=np.float32)\n",
    "\n",
    "X_test_tensor = torch.tensor(X_test_np).to(device)\n",
    "y_test_tensor = torch.tensor(y_test_np).to(device)\n",
    "\n",
    "with torch.no_grad():\n",
    "    y_pred = model(X_test_tensor)\n",
    "\n",
    "y_pred = y_pred.cpu().detach().numpy()\n",
    "y_pred_unscaled = y_scaler.inverse_transform(y_pred)\n",
    "\n",
    "mse = mean_squared_error(y_test, y_pred_unscaled)\n",
    "mae = mean_absolute_error(y_test, y_pred_unscaled)\n",
    "mape = mean_absolute_percentage_error(y_test, y_pred_unscaled)\n",
    "\n",
    "print(f'Mean Squared Error: {mse:.2f}')\n",
    "print(f'Mean Absolute Error: {mae:.2f}')\n",
    "print(\"Mean Absolute Percentage Error:\", mape)"
   ]
  },
  {
   "cell_type": "markdown",
   "metadata": {
    "id": "VMVckfB4g5YA",
    "pycharm": {
     "name": "#%% md\n"
    }
   },
   "source": [
    "# <b> 2<sup>nd</sup> model - Prophet </b>\n",
    "\n",
    "1. The training data is prepared for the Prophet model by extracting the 'Date' and 'Revenue' columns and renaming them to 'ds' and 'y', respectively, as required by the Prophet model.\n",
    "\n",
    "2. A Prophet model instance is created and fitted with the prepared training data.\n",
    "\n",
    "3. A future dataframe is created for the number of months in the test set using the make_future_dataframe method, and predictions are made using the predict method of the fitted Prophet model.\n",
    "\n",
    "4. The 'Date' column in the test data is adjusted to represent the first day of the month, as Prophet predicts on a monthly level.\n",
    "\n",
    "5. The model's evaluation is performed by comparing the predicted values ('yhat' column) in the test_forecast dataframe with the true revenue values from the original test_data.\n",
    "\n",
    "6. The mean squared error (MSE), mean absolute error (MAE), and mean absolute percentage error (MAPE) are calculated and printed, providing an assessment of the Prophet model's performance on the test data."
   ]
  },
  {
   "cell_type": "markdown",
   "metadata": {
    "id": "spRL1r6-rw8n",
    "pycharm": {
     "name": "#%% md\n"
    }
   },
   "source": [
    "# *Prepare Data for Prophet*"
   ]
  },
  {
   "cell_type": "code",
   "execution_count": 66,
   "metadata": {
    "id": "N5c3yzbMr6IY",
    "pycharm": {
     "name": "#%%\n"
    }
   },
   "outputs": [],
   "source": [
    "# Prepare the data for the Prophet model\n",
    "prophet_train_data = train_data[['Date', 'Revenue']].rename(columns={'Date': 'ds', 'Revenue': 'y'})"
   ]
  },
  {
   "cell_type": "markdown",
   "metadata": {
    "id": "zoCf0K3LjhqM",
    "pycharm": {
     "name": "#%% md\n"
    }
   },
   "source": [
    "## *Initialize the model*"
   ]
  },
  {
   "cell_type": "code",
   "execution_count": 67,
   "metadata": {
    "colab": {
     "base_uri": "https://localhost:8080/"
    },
    "id": "MmLht-lPgr5S",
    "outputId": "746954c8-40ef-4657-8f2f-7429ccfa9217",
    "pycharm": {
     "name": "#%%\n"
    }
   },
   "outputs": [
    {
     "data": {
      "text/plain": [
       "<prophet.forecaster.Prophet at 0x1b6c63610>"
      ]
     },
     "execution_count": 67,
     "metadata": {},
     "output_type": "execute_result"
    }
   ],
   "source": [
    "# Create and fit the Prophet model\n",
    "prophet_model = Prophet()\n",
    "prophet_model.fit(prophet_train_data)"
   ]
  },
  {
   "cell_type": "markdown",
   "metadata": {
    "id": "j_Q1kIbnkZ1V",
    "pycharm": {
     "name": "#%% md\n"
    }
   },
   "source": [
    "## *Predict the next month's revenue*"
   ]
  },
  {
   "cell_type": "code",
   "execution_count": 68,
   "metadata": {
    "id": "DKbHfBqAkZ9n",
    "pycharm": {
     "name": "#%%\n"
    }
   },
   "outputs": [],
   "source": [
    "# Create a future dataframe for the number of months in the test set\n",
    "num_months = len(test_data)\n",
    "future = prophet_model.make_future_dataframe(periods=num_months, freq='MS')\n",
    "prophet_forecast = prophet_model.predict(future)  # Make prediction"
   ]
  },
  {
   "cell_type": "markdown",
   "metadata": {
    "id": "4-wrrGFn8iyh",
    "pycharm": {
     "name": "#%% md\n"
    }
   },
   "source": [
    "## *Transformation*"
   ]
  },
  {
   "cell_type": "code",
   "execution_count": 69,
   "metadata": {
    "id": "m6pr63uI8HKX",
    "pycharm": {
     "name": "#%%\n"
    }
   },
   "outputs": [],
   "source": [
    "# Set the day to the first day of the month for the test data\n",
    "test_data['Date'] = test_data['Date'].apply(lambda x: x.replace(day=1))"
   ]
  },
  {
   "cell_type": "markdown",
   "metadata": {
    "id": "h1fyEB5FkKQ1",
    "pycharm": {
     "name": "#%% md\n"
    }
   },
   "source": [
    "## *Evaluation*"
   ]
  },
  {
   "cell_type": "code",
   "execution_count": 70,
   "metadata": {
    "colab": {
     "base_uri": "https://localhost:8080/"
    },
    "id": "AUvlUNX1hZdO",
    "outputId": "1ca83bfd-5b8e-4c80-dd85-2ebb11187cf8",
    "pycharm": {
     "name": "#%%\n"
    }
   },
   "outputs": [
    {
     "name": "stdout",
     "output_type": "stream",
     "text": [
      "Mean Squared Error: 1.078570947822462e+16\n",
      "Mean Absolute Error: 90540513.25890844\n",
      "Mean Absolute Percentage Error: 41.72165770228727\n"
     ]
    }
   ],
   "source": [
    "# Evaluate the model\n",
    "test_forecast = prophet_forecast.tail(num_months)\n",
    "\n",
    "# Get the true values from the original test_data\n",
    "y_true = test_data['Revenue'].values\n",
    "\n",
    "# Calculate the errors\n",
    "y_pred = test_forecast['yhat'].values\n",
    "\n",
    "mse = mean_squared_error(y_true, y_pred)\n",
    "mae = mean_absolute_error(y_true, y_pred)\n",
    "mape = mean_absolute_percentage_error(y_true, y_pred)\n",
    "print(\"Mean Squared Error:\", mse)\n",
    "print(\"Mean Absolute Error:\", mae)\n",
    "print(\"Mean Absolute Percentage Error:\", mape)"
   ]
  },
  {
   "cell_type": "markdown",
   "metadata": {
    "id": "o8JObuI0mgf_",
    "pycharm": {
     "name": "#%% md\n"
    }
   },
   "source": [
    "# <b> 3<sup>rd</sup> model - ARIMA </b>\n",
    "\n",
    "1. The time series data is prepared for the ARIMA model by creating a DataFrame with the 'Date' column as the index and the 'Revenue' column as the data.\n",
    "\n",
    "2. The ARIMA model is configured with the specified parameters (p, d, q), which represent the order of autoregression, the degree of differencing, and the order of moving average, respectively.\n",
    "\n",
    "3. The ARIMA model is fitted to the training data, and the fitted model is stored in the arima_results variable.\n",
    "\n",
    "4. The model is used to generate a forecast for the next few months, corresponding to the length of the test data.\n",
    "\n",
    "5. The true revenue values from the test data are extracted, and the predicted revenue values from the ARIMA model are compared to them.\n",
    "\n",
    "6. The model's performance is assessed by calculating the mean squared error (MSE), mean absolute error (MAE), and mean absolute percentage error (MAPE).\n",
    "\n",
    "7. The evaluation metrics are printed, providing a summary of the ARIMA model's performance on the test data."
   ]
  },
  {
   "cell_type": "markdown",
   "metadata": {
    "id": "o-Tn-B4hjgEI",
    "pycharm": {
     "name": "#%% md\n"
    }
   },
   "source": [
    "## *Prepare Data*"
   ]
  },
  {
   "cell_type": "code",
   "execution_count": 71,
   "metadata": {
    "id": "ofv0LpDKjieC",
    "pycharm": {
     "name": "#%%\n"
    }
   },
   "outputs": [],
   "source": [
    "# Prepare the time series data for the ARIMA model\n",
    "ts_data = train_data[['Date', 'Revenue']]\n",
    "ts_data.set_index('Date', inplace=True)"
   ]
  },
  {
   "cell_type": "markdown",
   "metadata": {
    "id": "nMr_heC5m2y7",
    "pycharm": {
     "name": "#%% md\n"
    }
   },
   "source": [
    "## *Fitting*"
   ]
  },
  {
   "cell_type": "code",
   "execution_count": 72,
   "metadata": {
    "id": "8h2K6t86ogOk",
    "pycharm": {
     "name": "#%%\n"
    }
   },
   "outputs": [],
   "source": [
    "# Fit the ARIMA model\n",
    "p, d, q = 2, 1, 2\n",
    "arima_model = ARIMA(ts_data, order=(p, d, q))\n",
    "arima_results = arima_model.fit()"
   ]
  },
  {
   "cell_type": "markdown",
   "metadata": {
    "id": "CJKW3DP0wjD3",
    "pycharm": {
     "name": "#%% md\n"
    }
   },
   "source": [
    "# *Prediction*"
   ]
  },
  {
   "cell_type": "code",
   "execution_count": 73,
   "metadata": {
    "id": "wELyr8LSwbrD",
    "pycharm": {
     "name": "#%%\n"
    }
   },
   "outputs": [],
   "source": [
    "# Get the forecast for the next months\n",
    "num_months_to_forecast = len(test_data)\n",
    "forecast = arima_results.forecast(steps=num_months_to_forecast)"
   ]
  },
  {
   "cell_type": "markdown",
   "metadata": {
    "id": "4Lj_8zvpwxq8",
    "pycharm": {
     "name": "#%% md\n"
    }
   },
   "source": [
    "## *Evaluation*"
   ]
  },
  {
   "cell_type": "code",
   "execution_count": 74,
   "metadata": {
    "colab": {
     "base_uri": "https://localhost:8080/"
    },
    "id": "07vbIChIwrtE",
    "outputId": "959d2881-8a09-4181-b778-0cd0a57702f2",
    "pycharm": {
     "name": "#%%\n"
    }
   },
   "outputs": [
    {
     "name": "stdout",
     "output_type": "stream",
     "text": [
      "Mean Squared Error: 818967297513702.2\n",
      "Mean Absolute Error: 23118741.946866117\n",
      "Mean Absolute Percentage Error: 11.948616876844435\n"
     ]
    }
   ],
   "source": [
    "# Prepare the test data for evaluation\n",
    "y_true = test_data['Revenue'].values\n",
    "y_pred = forecast.values\n",
    "\n",
    "# Calculate the errors\n",
    "mse = mean_squared_error(y_true, y_pred)\n",
    "mae = mean_absolute_error(y_true, y_pred)\n",
    "mape = mean_absolute_percentage_error(y_true, y_pred)\n",
    "\n",
    "# Print the metrics\n",
    "print(\"Mean Squared Error:\", mse)\n",
    "print(\"Mean Absolute Error:\", mae)\n",
    "print(\"Mean Absolute Percentage Error:\", mape)"
   ]
  },
  {
   "cell_type": "markdown",
   "metadata": {
    "id": "X0nqt1OlzYtZ",
    "pycharm": {
     "name": "#%% md\n"
    }
   },
   "source": [
    "# <b> Comparing all 3 models </b>\n",
    "\n",
    "1. The true revenue values from the test data, as well as the predicted revenue values from each of the three models (LSTM, Prophet, and ARIMA), are extracted and stored in separate variables.\n",
    "\n",
    "2. A figure is created with a size of 12x6 inches to visualize the comparison of the true revenue values and the predictions from the three models.\n",
    "\n",
    "3. The true revenue values are plotted as a solid line with circle markers, while the predictions from the LSTM, Prophet, and ARIMA models are plotted as dashed, dotted, and dash-dotted lines, respectively, with different marker styles for each model.\n",
    "\n",
    "4. The x-axis of the plot is labeled as \"Date,\" and the y-axis is labeled as \"Revenue.\" A title, \"Revenue Predictions Comparison: LSTM vs. Prophet vs. ARIMA,\" is added to the plot to describe its purpose.\n",
    "\n",
    "5. A legend is added to the plot to differentiate between the true revenue values and the predictions from the three models.\n",
    "\n",
    "6. Finally, the plot is displayed, illustrating the performance of the three models in predicting revenue over the test data period, allowing for a visual comparison of their accuracy and overall performance."
   ]
  },
  {
   "cell_type": "code",
   "execution_count": 75,
   "metadata": {
    "colab": {
     "base_uri": "https://localhost:8080/",
     "height": 404
    },
    "id": "44H9i8OvmhOs",
    "outputId": "ffda7eff-a031-4116-a934-12d0e2fbbabd",
    "pycharm": {
     "name": "#%%\n"
    }
   },
   "outputs": [
    {
     "data": {
      "image/png": "[encoded data removed]",
      "text/plain": [
       "<Figure size 1200x600 with 1 Axes>"
      ]
     },
     "metadata": {},
     "output_type": "display_data"
    }
   ],
   "source": [
    "# True revenue values\n",
    "true_revenue_dates = test_data['Date']\n",
    "true_revenue = test_data['Revenue']\n",
    "\n",
    "# LSTM predictions\n",
    "lstm_dates = test_data['Date']\n",
    "lstm_pred = y_pred_unscaled.flatten()\n",
    "\n",
    "# Prophet predictions\n",
    "prophet_dates = test_forecast['ds']\n",
    "prophet_pred = test_forecast['yhat'].values\n",
    "\n",
    "# ARIMA predictions\n",
    "arima_dates = test_data['Date']\n",
    "arima_pred = forecast.values\n",
    "\n",
    "# Plot the true revenue values and the predictions from each model\n",
    "plt.figure(figsize=(12, 6))\n",
    "plt.plot(true_revenue_dates, true_revenue, label=\"True Revenue\", marker='o', linestyle='-')\n",
    "plt.plot(lstm_dates, lstm_pred, label=\"LSTM Predictions\", marker='x', linestyle='--')\n",
    "plt.plot(prophet_dates, prophet_pred, label=\"Prophet Predictions\", marker='s', linestyle=':')\n",
    "plt.plot(arima_dates, arima_pred, label=\"ARIMA Predictions\", marker='d', linestyle='-.')\n",
    "\n",
    "plt.xlabel(\"Date\")\n",
    "plt.ylabel(\"Revenue\")\n",
    "plt.title(\"Revenue Predictions Comparison: LSTM vs. Prophet vs. ARIMA\")\n",
    "plt.legend()\n",
    "plt.show()"
   ]
  },
  {
   "cell_type": "markdown",
   "metadata": {
    "id": "pCO7RSTXftNe",
    "pycharm": {
     "name": "#%% md\n"
    }
   },
   "source": [
    "# <b> Summary of Model Performances </b>\n",
    "\n",
    "1. The Mean Squared Error (MSE), Mean Absolute Error (MAE), and Mean Absolute Percentage Error (MAPE) are calculated for each model using the true revenue values and predicted values.\n",
    "\n",
    "2. A random index is selected from the test dataset to compare the true revenue value and the predictions from all three models (LSTM, Prophet, and ARIMA) for that specific data point. The true value and each model's predictions are printed.\n",
    "\n",
    "3. The performance of each model is evaluated using the following metrics: Mean Squared Error (MSE), Mean Absolute Error (MAE), Mean Absolute Percentage Error (MAPE), and Root Mean Squared Error (RMSE). The metrics are calculated for each model and printed separately.\n",
    "\n",
    "4. A summary of the model performance is displayed, showing the MSE, MAE, MAPE, and RMSE values for ARIMA, LSTM, and Prophet models. This summary provides a quick comparison of the performance of each model, making it easier to identify the best-performing model in terms of prediction accuracy.\n"
   ]
  },
  {
   "cell_type": "code",
   "execution_count": 76,
   "metadata": {
    "colab": {
     "base_uri": "https://localhost:8080/"
    },
    "id": "vDerlscE-fsF",
    "outputId": "b53e0e0d-6d9b-43f4-d7e6-21723dda523a",
    "pycharm": {
     "name": "#%%\n"
    }
   },
   "outputs": [
    {
     "name": "stdout",
     "output_type": "stream",
     "text": [
      "True revenue value: 194692109.20\n",
      "LSTM prediction: 114453921.10\n",
      "Prophet prediction: 336364469.24\n",
      "ARIMA prediction: 224304664.46\n"
     ]
    }
   ],
   "source": [
    "# Calculate the errors\n",
    "mse = mean_squared_error(y_true, y_pred)\n",
    "mae = mean_absolute_error(y_true, y_pred)\n",
    "mape = mean_absolute_percentage_error(y_true, y_pred)\n",
    "# Randomly select an index from the test set\n",
    "random_index = random.randint(0, len(y_test) - 1)\n",
    "\n",
    "# Get the true revenue value\n",
    "true_revenue_value = y_test.iloc[random_index]\n",
    "\n",
    "# Get the corresponding input values for the selected index\n",
    "input_values = X_test_scaled.iloc[random_index].values\n",
    "\n",
    "# LSTM prediction\n",
    "input_tensor = torch.tensor(input_values).to(device).unsqueeze(0).float()\n",
    "with torch.no_grad():\n",
    "    lstm_prediction_scaled = model(input_tensor).item()\n",
    "\n",
    "lstm_prediction = y_scaler.inverse_transform([[lstm_prediction_scaled]])[0][0]\n",
    "\n",
    "# Prophet prediction\n",
    "prophet_prediction = test_forecast.iloc[random_index]['yhat']\n",
    "\n",
    "# ARIMA prediction\n",
    "arima_prediction = arima_pred[random_index]\n",
    "\n",
    "# Compare the true value and the predictions from all models\n",
    "print(f\"True revenue value: {true_revenue_value:.2f}\")\n",
    "print(f\"LSTM prediction: {lstm_prediction:.2f}\")\n",
    "print(f\"Prophet prediction: {prophet_prediction:.2f}\")\n",
    "print(f\"ARIMA prediction: {arima_prediction:.2f}\")"
   ]
  },
  {
   "cell_type": "code",
   "execution_count": 77,
   "metadata": {
    "id": "Fdy1uDXckbaS",
    "pycharm": {
     "name": "#%%\n"
    }
   },
   "outputs": [],
   "source": [
    "# True revenue values\n",
    "y_true = true_revenue\n",
    "\n",
    "# Model predictions\n",
    "arima_predictions = arima_pred\n",
    "lstm_predictions = lstm_pred\n",
    "prophet_predictions = prophet_pred\n",
    "\n",
    "# Calculate the errors\n",
    "mse_arima = mean_squared_error(y_true, arima_predictions)\n",
    "mse_lstm = mean_squared_error(y_true, lstm_predictions)\n",
    "mse_prophet = mean_squared_error(y_true, prophet_predictions)\n",
    "\n",
    "mae_arima = mean_absolute_error(y_true, arima_predictions)\n",
    "mae_lstm = mean_absolute_error(y_true, lstm_predictions)\n",
    "mae_prophet = mean_absolute_error(y_true, prophet_predictions)\n",
    "\n",
    "mape_arima = mean_absolute_percentage_error(y_true, arima_predictions)\n",
    "mape_lstm = mean_absolute_percentage_error(y_true, lstm_predictions)\n",
    "mape_prophet = mean_absolute_percentage_error(y_true, prophet_predictions)\n",
    "\n",
    "arima_rmse = calculate_rmse(y_true, arima_predictions)\n",
    "lstm_rmse = calculate_rmse(y_true, lstm_predictions)\n",
    "prophet_rmse = calculate_rmse(y_true, prophet_predictions)"
   ]
  },
  {
   "cell_type": "code",
   "execution_count": 85,
   "metadata": {
    "colab": {
     "base_uri": "https://localhost:8080/"
    },
    "id": "i3oq6g6vwHFA",
    "outputId": "53a0745a-91f6-4572-ef36-69b96aec8992",
    "pycharm": {
     "name": "#%%\n"
    }
   },
   "outputs": [
    {
     "name": "stdout",
     "output_type": "stream",
     "text": [
      "ARIMA Model Performance:\n",
      "Mean Squared Error: 818967297513702.2\n",
      "Mean Absolute Error: 23118741.946866117\n",
      "Mean Absolute Percentage Error: 11.948616876844435\n",
      "Root Mean Square Error: 28617604.67812955\n",
      "\n",
      "LSTM Model Performance:\n",
      "Mean Squared Error: 7249950898164424.0\n",
      "Mean Absolute Error: 74647256.16399987\n",
      "Mean Absolute Percentage Error: 34.74557311600759\n",
      "Root Mean Square Error: 85146643.49323715\n",
      "\n",
      "Prophet Model Performance:\n",
      "Mean Squared Error: 1.078570947822462e+16\n",
      "Mean Absolute Error: 90540513.25890844\n",
      "Mean Absolute Percentage Error: 41.72165770228727\n",
      "Root Mean Square Error: 103854270.38992965\n",
      "\n",
      "Model Performance Summary:\n",
      "ARIMA:   MSE=818967297513702.25,   MAE=23118741.95, MAPE=11.95%, RMSE=28617605\n",
      "LSTM:    MSE=7249950898164424.00,  MAE=74647256.16, MAPE=34.75%, RMSE=85146643\n",
      "Prophet: MSE=10785709478224620.00, MAE=90540513.26, MAPE=41.72%, RMSE=103854270\n"
     ]
    }
   ],
   "source": [
    "# Print the metrics\n",
    "print(\"ARIMA Model Performance:\")\n",
    "print(\"Mean Squared Error:\", mse_arima)\n",
    "print(\"Mean Absolute Error:\", mae_arima)\n",
    "print(\"Mean Absolute Percentage Error:\", mape_arima)\n",
    "print(\"Root Mean Square Error:\", arima_rmse)\n",
    "\n",
    "print(\"\\nLSTM Model Performance:\")\n",
    "print(\"Mean Squared Error:\", mse_lstm)\n",
    "print(\"Mean Absolute Error:\", mae_lstm)\n",
    "print(\"Mean Absolute Percentage Error:\", mape_lstm)\n",
    "print(\"Root Mean Square Error:\", lstm_rmse)\n",
    "\n",
    "print(\"\\nProphet Model Performance:\")\n",
    "print(\"Mean Squared Error:\", mse_prophet)\n",
    "print(\"Mean Absolute Error:\", mae_prophet)\n",
    "print(\"Mean Absolute Percentage Error:\", mape_prophet)\n",
    "print(\"Root Mean Square Error:\", prophet_rmse)\n",
    "\n",
    "# Summary of Model Performance\n",
    "print(\"\\nModel Performance Summary:\")\n",
    "print(f\"ARIMA:   MSE={mse_arima:.2f},   MAE={mae_arima:.2f}, MAPE={mape_arima:.2f}%, RMSE={arima_rmse:.0f}\")\n",
    "print(f\"LSTM:    MSE={mse_lstm:.2f},  MAE={mae_lstm:.2f}, MAPE={mape_lstm:.2f}%, RMSE={lstm_rmse:.0f}\")\n",
    "print(f\"Prophet: MSE={mse_prophet:.2f}, MAE={mae_prophet:.2f}, MAPE={mape_prophet:.2f}%, RMSE={prophet_rmse:.0f}\")"
   ]
  },
  {
   "cell_type": "markdown",
   "metadata": {
    "id": "piVXpvXQGOrW",
    "pycharm": {
     "name": "#%% md\n"
    }
   },
   "source": [
    "# <b> Tuning ARIMA model </b>\n",
    "\n",
    "Here we tune an ARIMA model for time series forecasting. Various combinations of p, d, and q parameters are explored, with their corresponding Mean Absolute Percentage Error (MAPE) values presented in the comments. The optimal combination of parameters (p=2, d=1, q=5) is selected based on the lowest MAPE value.\n",
    "\n",
    "An ARIMA model is then fitted using the optimal parameters on the time series data. The model is used to forecast the revenue for the next few months, equal to the length of the test data. The true and predicted values are compared using various error metrics, such as Mean Squared Error (MSE), Mean Absolute Error (MAE), and Mean Absolute Percentage Error (MAPE), which are printed for evaluation. This tuning process helps to identify the best parameter settings for the ARIMA model and improve its forecasting performance."
   ]
  },
  {
   "cell_type": "code",
   "execution_count": 79,
   "metadata": {
    "colab": {
     "base_uri": "https://localhost:8080/"
    },
    "id": "XTclVrYAGRqx",
    "outputId": "678a24ee-91a7-4ffd-d7b6-db25be892fdc",
    "pycharm": {
     "name": "#%%\n"
    }
   },
   "outputs": [
    {
     "name": "stdout",
     "output_type": "stream",
     "text": [
      "Mean Squared Error: 480119740283395.8\n",
      "Mean Absolute Error: 16006565.110172246\n",
      "Mean Absolute Percentage Error: 7.6092340421124876\n"
     ]
    }
   ],
   "source": [
    "# Optimize ARIMA parameters: \n",
    "p, d, q = 2, 1, 5 \n",
    "# 2, 1, 2 -> MAPE: 11.948616876844435\n",
    "# 5, 1, 2 -> MAPE: 10.602326063880676\n",
    "# 6, 1, 2 -> MAPE: 10.269471391310905\n",
    "# 7, 1, 2 -> MAPE: 10.268259618761041\n",
    "# 8, 1, 2 -> MAPE: 16.721928386086443\n",
    "# 2, 2, 2 -> MAPE: 27.89327706315853\n",
    "# 2, 3, 2 -> MAPE: 21.65528975853493\n",
    "# 2, 4, 2 -> MAPE: 122.13028156153875\n",
    "# 2, 5, 2 -> MAPE: 248.90280271276572\n",
    "# 2, 1, 3 -> MAPE: 21.39656440954773\n",
    "# 2, 1, 4 -> MAPE: 7.811919609653558\n",
    "# 2, 1, 5 -> MAPE: 7.609259546735108\n",
    "# 2, 1, 6 -> MAPE: 9.112295952131037\n",
    "# 3, 1, 2 -> MAPE: 11.801849373286796\n",
    "# 4, 1, 2 -> MAPE: 9.144385130568224\n",
    "# 4, 1, 3 -> MAPE: 10.002521203977881\n",
    "# 4, 1, 4 -> MAPE: 9.370263603527599\n",
    "# 4, 1, 5 -> MAPE: 8.15205924458995\n",
    "# 4, 1, 5 -> MAPE: 8.173407892338679\n",
    "\n",
    "arima_model = ARIMA(ts_data, order=(p, d, q))\n",
    "arima_results = arima_model.fit()\n",
    "\n",
    "# Get the forecast for the next months\n",
    "num_months_to_forecast = len(test_data)\n",
    "forecast = arima_results.forecast(steps=num_months_to_forecast)\n",
    "\n",
    "# Prepare the test data for evaluation\n",
    "y_true = test_data['Revenue'].values\n",
    "y_pred = forecast.values\n",
    "\n",
    "# Calculate the errors\n",
    "mse = mean_squared_error(y_true, y_pred)\n",
    "mae = mean_absolute_error(y_true, y_pred)\n",
    "mape = mean_absolute_percentage_error(y_true, y_pred)\n",
    "\n",
    "# Print the errors\n",
    "print(\"Mean Squared Error:\", mse)\n",
    "print(\"Mean Absolute Error:\", mae)\n",
    "print(\"Mean Absolute Percentage Error:\", mape)"
   ]
  },
  {
   "cell_type": "markdown",
   "metadata": {
    "id": "BNqzznfWOY1u",
    "pycharm": {
     "name": "#%% md\n"
    }
   },
   "source": [
    "# <b> Comparing tuned model </b>\n",
    "\n",
    "In this section, we optimize the ARIMA model by tuning its parameters p, d, and q, which correspond to the order of the autoregressive (AR) term, the degree of differencing, and the order of the moving average (MA) term, respectively. A set of different (p, d, q) combinations are tested, and the Mean Absolute Percentage Error (MAPE) is calculated for each combination to find the optimal parameters that yield the lowest MAPE.\n",
    "\n",
    "The ARIMA model is then fit using the optimal parameters, and the forecast for the next several months is generated. The test data is prepared for evaluation, and the performance of the tuned ARIMA model is assessed using the Mean Squared Error (MSE), Mean Absolute Error (MAE), and Mean Absolute Percentage Error (MAPE). The errors are printed, providing an insight into how well the tuned ARIMA model performs compared to its untuned version."
   ]
  },
  {
   "cell_type": "code",
   "execution_count": 80,
   "metadata": {
    "colab": {
     "base_uri": "https://localhost:8080/",
     "height": 404
    },
    "id": "XnLgw11ZLtrn",
    "outputId": "feaefd20-12d6-4d80-9293-49c6834b77bc",
    "pycharm": {
     "name": "#%%\n"
    }
   },
   "outputs": [
    {
     "data": {
      "image/png": "[encoded data removed]",
      "text/plain": [
       "<Figure size 1200x600 with 1 Axes>"
      ]
     },
     "metadata": {},
     "output_type": "display_data"
    }
   ],
   "source": [
    "# True revenue values\n",
    "true_revenue_dates = test_data['Date']\n",
    "true_revenue = test_data['Revenue']\n",
    "\n",
    "# ARIMA predictions\n",
    "arima_dates = test_data['Date']\n",
    "arima_pred = forecast.values\n",
    "\n",
    "# Plot the true revenue values and the predictions from each model\n",
    "plt.figure(figsize=(12, 6))\n",
    "plt.plot(true_revenue_dates, true_revenue, label=\"True Revenue\", marker='o', linestyle='-')\n",
    "plt.plot(arima_dates, arima_pred, label=\"ARIMA Predictions\", marker='d', linestyle='-.')\n",
    "\n",
    "plt.xlabel(\"Date\")\n",
    "plt.ylabel(\"Revenue\")\n",
    "plt.title(\"Revenue Predictions Comparison: True value vs. ARIMA\")\n",
    "plt.legend()\n",
    "plt.show()"
   ]
  },
  {
   "cell_type": "code",
   "execution_count": 81,
   "metadata": {
    "colab": {
     "base_uri": "https://localhost:8080/"
    },
    "id": "BVRItZrcL1ss",
    "outputId": "e6ad666e-c428-4c7a-cded-874cc3b8e191",
    "pycharm": {
     "name": "#%%\n"
    }
   },
   "outputs": [
    {
     "name": "stdout",
     "output_type": "stream",
     "text": [
      "True revenue value: 221574785.24\n",
      "ARIMA prediction: 205729239.76\n"
     ]
    }
   ],
   "source": [
    "# Randomly select an index from the test set\n",
    "random_index = random.randint(0, len(y_test) - 1)\n",
    "\n",
    "# Get the true revenue value\n",
    "true_revenue_value = y_test.iloc[random_index]\n",
    "\n",
    "# ARIMA prediction\n",
    "arima_prediction = arima_pred[random_index]\n",
    "\n",
    "# Compare the true value and the predictions from all models\n",
    "print(f\"True revenue value: {true_revenue_value:.2f}\")\n",
    "print(f\"ARIMA prediction: {arima_prediction:.2f}\")"
   ]
  },
  {
   "cell_type": "markdown",
   "metadata": {
    "id": "llNSpMzNi2ka",
    "pycharm": {
     "name": "#%% md\n"
    }
   },
   "source": [
    "# <b> Conclusion </b>\n",
    "\n",
    "In conclusion, after comparing the performance of the ARIMA, LSTM, and Prophet models for monthly revenue forecasting, the ARIMA model emerges as the best choice, with the lowest Mean Absolute Percentage Error (MAPE) of 7.6093%. This suggests that the ARIMA model provides the most accurate predictions among the three models evaluated in this study.\n"
   ]
  },
  {
   "cell_type": "code",
   "execution_count": 82,
   "metadata": {
    "colab": {
     "base_uri": "https://localhost:8080/"
    },
    "id": "QFk0nkgEi2wE",
    "outputId": "b7e18326-2ecb-4a13-b098-27cff6b67d08",
    "pycharm": {
     "name": "#%%\n"
    }
   },
   "outputs": [
    {
     "name": "stdout",
     "output_type": "stream",
     "text": [
      "\n",
      "Based on the Mean Absolute Percentage Error (MAPE), the best model for monthly revenue forecasting is:\n",
      "ARIMA with MAPE = 7.6092%\n"
     ]
    }
   ],
   "source": [
    "# Conclusion\n",
    "print(\"\\nBased on the Mean Absolute Percentage Error (MAPE), the best model for monthly revenue forecasting is:\")\n",
    "best_model = min([('ARIMA', mape), ('LSTM', mape_lstm), ('Prophet', mape_prophet)], key=lambda x: x[1])\n",
    "print(f\"{best_model[0]} with MAPE = {best_model[1]:.4f}%\")\n"
   ]
  },
  {
   "cell_type": "markdown",
   "metadata": {
    "id": "uS9tNFBOajk6",
    "pycharm": {
     "name": "#%% md\n"
    }
   },
   "source": [
    "# <b> Save the model </b>"
   ]
  },
  {
   "cell_type": "code",
   "execution_count": 83,
   "metadata": {
    "id": "iwFdVNJDaiGZ",
    "pycharm": {
     "name": "#%%\n"
    }
   },
   "outputs": [],
   "source": [
    "# Save the trained model to a file\n",
    "with open('arima_results.pkl', 'wb') as file:\n",
    "    pickle.dump(arima_results, file)"
   ]
  },
  {
   "cell_type": "code",
   "execution_count": 84,
   "metadata": {
    "colab": {
     "base_uri": "https://localhost:8080/",
     "height": 642
    },
    "id": "SOmMj48nSVTF",
    "outputId": "fd616557-1dbb-4fd3-b22c-6a0f25119beb",
    "pycharm": {
     "name": "#%%\n"
    }
   },
   "outputs": [
    {
     "name": "stdout",
     "output_type": "stream",
     "text": [
      "An error occurred while making the request.\n"
     ]
    }
   ],
   "source": [
    "import requests\n",
    "\n",
    "url_forecast = 'http://localhost:5000/forecast'\n",
    "response = requests.post(url_forecast)\n",
    "\n",
    "if response.status_code == 200:\n",
    "    prediction = response.json()['prediction']\n",
    "    print(f\"The predicted revenue for the next month is: {prediction}\")\n",
    "else:\n",
    "    print(\"An error occurred while making the request.\")\n",
    "    \n",
    "    \n"
   ]
  },
  {
   "cell_type": "markdown",
   "metadata": {
    "id": "Xz0WPXt0ngQY",
    "pycharm": {
     "name": "#%% md\n"
    }
   },
   "source": [
    "<b> Accuracy </b>\n",
    "\n",
    "- The tuned ARIMA model demonstrates a reasonable level of accuracy in forecasting monthly revenue amongst all compared models. The model achieved a Mean Absolute Error (MAE) of 16006599.74, a Mean Squared Error (MSE) of 480121386522900.00, a Mean Absolute Percentage Error (MAPE) of 7.61%, and a Root Mean Squared Error (RMSE) of 21911672. These metrics indicate that, on average, the model's predictions deviate from the true revenue values by 16006599.74 units (MAE), and the square root of the average squared deviation is 21911672 units (RMSE). The MAPE value of 7.61% represents the average percentage error of the model's predictions relative to the true revenue values. In comparison with other models such as LSTM and Prophet, the ARIMA model's performance is [bette], depending on all used metric values.\n",
    "\n",
    "<b> Why I chose the ARIMA model? </b>\n",
    "\n",
    "- ARIMA (AutoRegressive Integrated Moving Average) is a classical time series forecasting model that aims to predict future data points based on past observations. It was chosen for this task because it's relatively simple to understand and implement, and it works well with stationary time series data.\n",
    "\n",
    "- Benefits of ARIMA compared to LSTM and Prophet:\n",
    "\n",
    "  1. Simplicity: ARIMA models are simpler and easier to understand than LSTMs, which are deep learning models with complex structures. ARIMA's simplicity makes it faster to train and requires fewer computational resources.\n",
    "\n",
    "  2. Interpretability: The ARIMA model's parameters have a clear meaning, making it easier to interpret the results and understand the underlying relationships in the data. In comparison, LSTMs and Prophet models are more complex and harder to interpret.\n",
    "\n",
    "  3. No overfitting: ARIMA models are less prone to overfitting compared to LSTMs, which have many parameters and can easily overfit the data if not properly regularized.\n",
    "\n",
    "<b> ARIMA model results </b>\n",
    "\n",
    "- ARIMA model is combined of the pramameters p, d, q and the AIC (Akaike Information Criterion). Lower AIC values suggest a better-fitting model. In our tuned case case, the ARIMA model of 2, 1, 5 suggests that it best fits the given data among the tested models.\n",
    "\n"
   ]
  }
 ],
 "metadata": {
  "accelerator": "GPU",
  "colab": {
   "machine_shape": "hm",
   "provenance": []
  },
  "gpuClass": "standard",
  "kernelspec": {
   "display_name": "Python 3 (ipykernel)",
   "language": "python",
   "name": "python3"
  },
  "language_info": {
   "codemirror_mode": {
    "name": "ipython",
    "version": 3
   },
   "file_extension": ".py",
   "mimetype": "text/x-python",
   "name": "python",
   "nbconvert_exporter": "python",
   "pygments_lexer": "ipython3",
   "version": "3.9.15"
  }
 },
 "nbformat": 4,
 "nbformat_minor": 1
}
